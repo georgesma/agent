{
 "cells": [
  {
   "cell_type": "code",
   "execution_count": 1,
   "id": "3f31daa2-030f-4eee-b5c6-b80a71e0d983",
   "metadata": {},
   "outputs": [],
   "source": [
    "import sys\n",
    "sys.path.append(\"..\")\n",
    "\n",
    "from glob import glob\n",
    "import matplotlib.pyplot as plt\n",
    "import ipywidgets as ipw\n",
    "from IPython.display import Audio\n",
    "import numpy as np\n",
    "import pandas as pd\n",
    "import pickle\n",
    "import yaml\n",
    "\n",
    "from lib.notebooks import plot_groups_metrics\n",
    "from communicative_agent import CommunicativeAgent"
   ]
  },
  {
   "cell_type": "code",
   "execution_count": 2,
   "id": "0568ed6a-56ec-4209-9324-ba4acf68b948",
   "metadata": {},
   "outputs": [],
   "source": [
    "agents_path = glob(\"../out/communicative_agent/*/\")\n",
    "agents_path.sort()"
   ]
  },
  {
   "cell_type": "code",
   "execution_count": 3,
   "id": "e55f3269-7d09-4ba9-864f-e47996122503",
   "metadata": {},
   "outputs": [],
   "source": [
    "groups_metrics = {}\n",
    "agents_loss = {\n",
    "    \"path\": [],\n",
    "    \"datasets\": [],\n",
    "    \"inverse_learning_rate\": [],\n",
    "    \"inverse_layers\": [],\n",
    "    \"inverse_dropout_p\": [],\n",
    "    \"direct_learning_rate\": [],\n",
    "    \"direct_layers\": [],\n",
    "    \"direct_dropout_p\": [],\n",
    "    \"jerk_weight\": [],\n",
    "    \"direct_estimation_error\": [],\n",
    "    \"inverse_estimation_error\": [],\n",
    "    \"jerk\": [],\n",
    "    \"repetition_error\": [],\n",
    "}\n",
    "\n",
    "for agent_path in agents_path:\n",
    "    agent = CommunicativeAgent.reload(agent_path, load_nn=False)\n",
    "    config = agent.config\n",
    "    with open(\"%s/metrics.pickle\" % agent_path, \"rb\") as f:\n",
    "        metrics = pickle.load(f)\n",
    "    \n",
    "    agents_loss[\"path\"].append(agent_path[-5:-1])\n",
    "    agents_loss[\"datasets\"].append(\",\".join(agent.sound_quantizer.config['dataset']['names']))\n",
    "\n",
    "    agents_loss[\"inverse_learning_rate\"].append(config['training']['inverse_model_learning_rate'])\n",
    "    agents_loss[\"inverse_layers\"].append(f\"{config['model']['inverse_model']['num_layers']}x{config['model']['inverse_model']['hidden_size']}\")\n",
    "    agents_loss[\"inverse_dropout_p\"].append(config['model']['inverse_model']['dropout_p'])\n",
    "\n",
    "    if 'use_synth_as_direct_model' not in config['model']:\n",
    "        agents_loss[\"direct_learning_rate\"].append(config['training']['direct_model_learning_rate'])\n",
    "        agents_loss[\"direct_layers\"].append(f\"{len(config['model']['direct_model']['hidden_layers'])}x{config['model']['direct_model']['hidden_layers'][0]}\")\n",
    "        agents_loss[\"direct_dropout_p\"].append(config['model']['direct_model']['dropout_p'])\n",
    "    else:\n",
    "        agents_loss[\"direct_learning_rate\"].append(0)\n",
    "        agents_loss[\"direct_layers\"].append(\"synth\")\n",
    "        agents_loss[\"direct_dropout_p\"].append(0)\n",
    "    \n",
    "    agents_loss[\"jerk_weight\"].append(config['training']['jerk_loss_weight'])\n",
    "\n",
    "    final_loss_index = np.argmin(metrics[\"validation\"][\"inverse_model_repetition_error\"])\n",
    "    \n",
    "    \n",
    "    if 'use_synth_as_direct_model' not in config['model']:\n",
    "        agents_loss[\"direct_estimation_error\"].append(metrics[\"test\"][\"direct_model_estimation_error\"][final_loss_index])\n",
    "    else:\n",
    "        agents_loss[\"direct_estimation_error\"].append(0)\n",
    "\n",
    "    agents_loss[\"inverse_estimation_error\"].append(metrics[\"test\"][\"inverse_model_estimation_error\"][final_loss_index])\n",
    "    agents_loss[\"jerk\"].append(metrics[\"test\"][\"inverse_model_jerk\"][final_loss_index])\n",
    "    agents_loss[\"repetition_error\"].append(metrics[\"test\"][\"inverse_model_repetition_error\"][final_loss_index])\n",
    "    \n",
    "    group_name = \"\\n\".join((\n",
    "        f\"datasets={','.join(agent.sound_quantizer.config['dataset']['names'])}\",\n",
    "        f\"synth_art={agent.synthesizer.config['dataset']['art_type']}\",\n",
    "        f\"jerk_w={config['training']['jerk_loss_weight']}\",\n",
    "        # f\"frame_padding={config['model']['sound_quantizer']['frame_padding']}\",\n",
    "    ))\n",
    "    \n",
    "    if group_name not in groups_metrics:\n",
    "        groups_metrics[group_name] = {}\n",
    "    groups_metrics[group_name][agent_path] = metrics\n",
    "\n",
    "agents_loss = pd.DataFrame(agents_loss)"
   ]
  },
  {
   "cell_type": "code",
   "execution_count": 4,
   "id": "bad8ffc3-1560-476b-a319-256232d04636",
   "metadata": {},
   "outputs": [
    {
     "data": {
      "application/vnd.jupyter.widget-view+json": {
       "model_id": "90de820c00534f5cbd7919fa195567df",
       "version_major": 2,
       "version_minor": 0
      },
      "text/plain": [
       "interactive(children=(Dropdown(description='measure', index=12, options=('path', 'datasets', 'inverse_learning…"
      ]
     },
     "metadata": {},
     "output_type": "display_data"
    }
   ],
   "source": [
    "datasets = pd.unique(agents_loss[\"datasets\"])\n",
    "jerk_weights = pd.unique(agents_loss[\"jerk_weight\"])\n",
    "\n",
    "def show_top_agents(measure=\"repetition_error\", datasets=datasets[0], jerk_weight=jerk_weights[0], use_synth_as_direct=False, ascending=True):\n",
    "    subset = agents_loss[agents_loss[\"datasets\"] == datasets]\n",
    "    subset = subset[subset[\"jerk_weight\"] == jerk_weight]\n",
    "    if use_synth_as_direct:\n",
    "        subset = subset[subset[\"direct_layers\"] == \"synth\"]\n",
    "    else:\n",
    "        subset = subset[subset[\"direct_layers\"] != \"synth\"]\n",
    "    display(subset.sort_values(measure, ascending=ascending).head(30))\n",
    "\n",
    "ipw.interactive(show_top_agents, measure=agents_loss, datasets=datasets, jerk_weight=jerk_weights, use_synth_as_direct=False, ascending=True)"
   ]
  },
  {
   "cell_type": "code",
   "execution_count": 5,
   "id": "f6fbe15c-e469-4357-a393-de44c63f0506",
   "metadata": {},
   "outputs": [
    {
     "data": {
      "application/vnd.jupyter.widget-view+json": {
       "model_id": "39a8d514c79b4aaa8bdb441a1f8e7b23",
       "version_major": 2,
       "version_minor": 0
      },
      "text/plain": [
       "interactive(children=(Dropdown(description='split_name', index=2, options=('train', 'validation', 'test'), val…"
      ]
     },
     "metadata": {},
     "output_type": "display_data"
    }
   ],
   "source": [
    "metrics_name = [\n",
    "    # \"sound_quantizer_reconstruction_error\",\n",
    "    # \"sound_quantizer_vq_loss\",\n",
    "    \"direct_model_estimation_error\",\n",
    "    \"inverse_model_estimation_error\",\n",
    "    \"inverse_model_repetition_error\",\n",
    "    \"inverse_model_jerk\",\n",
    "]\n",
    "\n",
    "def show_metrics(split_name=\"test\"):\n",
    "    plot_groups_metrics(groups_metrics, metrics_name, split_name)\n",
    "display(ipw.interactive(show_metrics, split_name=[\"train\", \"validation\", \"test\"]))"
   ]
  },
  {
   "cell_type": "code",
   "execution_count": null,
   "id": "894d7cd6-236d-42c1-bef7-7cc81ae11306",
   "metadata": {},
   "outputs": [],
   "source": []
  }
 ],
 "metadata": {
  "kernelspec": {
   "display_name": "Python 3",
   "language": "python",
   "name": "python3"
  },
  "language_info": {
   "codemirror_mode": {
    "name": "ipython",
    "version": 3
   },
   "file_extension": ".py",
   "mimetype": "text/x-python",
   "name": "python",
   "nbconvert_exporter": "python",
   "pygments_lexer": "ipython3",
   "version": "3.7.16"
  }
 },
 "nbformat": 4,
 "nbformat_minor": 5
}
