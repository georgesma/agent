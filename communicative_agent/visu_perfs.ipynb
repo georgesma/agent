{
 "cells": [
  {
   "cell_type": "code",
   "execution_count": 1,
   "id": "8839a8d6-acc0-460b-9cc6-34c17b04620a",
   "metadata": {},
   "outputs": [],
   "source": [
    "import sys\n",
    "sys.path.append(\"..\")\n",
    "\n",
    "from glob import glob\n",
    "import matplotlib.pyplot as plt\n",
    "import ipywidgets as ipw\n",
    "from IPython.display import Audio\n",
    "import numpy as np\n",
    "import pandas as pd\n",
    "import pickle\n",
    "import yaml\n",
    "\n",
    "from lib import utils\n",
    "from lib.notebooks import plot_groups_metrics\n",
    "from communicative_agent import CommunicativeAgent"
   ]
  },
  {
   "cell_type": "code",
   "execution_count": 2,
   "id": "05c0cd2f-6909-4752-8a61-dd48cdebf496",
   "metadata": {},
   "outputs": [],
   "source": [
    "NB_TRAINING = 5\n",
    "JERK_LOSS_WEIGHTS = [0, 0.15]"
   ]
  },
  {
   "cell_type": "code",
   "execution_count": 7,
   "id": "33944f1f-bed3-4d5b-815d-0ef543f7c45a",
   "metadata": {},
   "outputs": [
    {
     "name": "stdout",
     "output_type": "stream",
     "text": [
      "0\n",
      "bd7b01b16ea86da2e4fb0f082cd46687-0\n",
      "0.15\n",
      "5e5dce5ba23ccc653b8cb0cbd29c7cc9-0\n",
      "0\n",
      "2d2c8282327ffc71177907b6649a441e-1\n",
      "0.15\n",
      "ab6a5478e5bc27aca498e1b80439f22b-1\n",
      "0\n",
      "97a400f946a1202ec39bbf5546749656-2\n",
      "0.15\n",
      "255f581101c5169ce56d919198f62c33-2\n",
      "0\n",
      "bc1e67df2dec1d7577fddf6a3bd48bae-3\n",
      "0.15\n",
      "aabf90478c0629fd266913e4b0ea1b72-3\n",
      "0\n",
      "79dc16c932448a9a1418d56a3b263c4f-4\n",
      "0.15\n",
      "8b2ea1d806d35213698be3161ab02bbb-4\n",
      "0\n",
      "6c31ae73341624b9c8dcc87fe0785d2a-0\n",
      "0.15\n",
      "f103235e599e91d1d8f16726de633c41-0\n",
      "0\n",
      "f9ce1417898b61bca0230bc5c43db9b8-1\n",
      "0.15\n",
      "4ea8e7d887c3aa4692d5c1a162087f11-1\n",
      "0\n",
      "5712219048d80e333c923cb044ec1e95-2\n",
      "0.15\n",
      "4936c9a76095bd94ddd8ce4f066b8bde-2\n",
      "0\n",
      "f4ac107bd283e0c40ea2ee25d1020363-3\n",
      "0.15\n",
      "8969824d55dc82ed4a29661da4ffdb1d-3\n",
      "0\n",
      "25c7a23c9dbdb22b04d89cd29539d42b-4\n",
      "0.15\n",
      "5b6a02d2fc806a8d8f6c93b3d0fb6202-4\n"
     ]
    }
   ],
   "source": [
    "metrics_name = [\"inverse_model_jerk\", \"inverse_model_repetition_error\"]\n",
    "groups_metrics = { metric_name: {} for metric_name in metrics_name }\n",
    "\n",
    "final_configs = utils.read_yaml_file(\"communicative_final_configs.yaml\")\n",
    "final_quantizer_configs = utils.read_yaml_file(\"../quantizer/quantizer_final_configs.yaml\")\n",
    "\n",
    "for config_name, config in final_configs.items():\n",
    "    quantizer_name = config_name.split(\"-\")[0]\n",
    "    quantizer_config = final_quantizer_configs[\"%s-cepstrum\" % quantizer_name]\n",
    "    if not config_name.startswith(\"pb2007\"): continue\n",
    "\n",
    "    for i_training in range(NB_TRAINING):\n",
    "        quantizer_config[\"dataset\"][\"datasplit_seed\"] = i_training\n",
    "        quantizer_signature = utils.get_variable_signature(quantizer_config)\n",
    "\n",
    "        for jerk_loss_weight in JERK_LOSS_WEIGHTS:\n",
    "            config[\"sound_quantizer\"][\"name\"] = \"%s-%s\" % (quantizer_signature, i_training)\n",
    "            config[\"training\"][\"jerk_loss_weight\"] = jerk_loss_weight\n",
    "\n",
    "            agent_group = \"%s jerk=%s\" % (config_name, jerk_loss_weight)\n",
    "            \n",
    "            agent_signature = utils.get_variable_signature(config)\n",
    "            agent_name = \"%s-%s\" % (agent_signature, i_training)\n",
    "            print(jerk_loss_weight)\n",
    "            print(agent_name)\n",
    "            agent_path = \"../out/communicative_agent/%s\" % agent_name\n",
    "            with open(\"%s/metrics.pickle\" % agent_path, \"rb\") as f:\n",
    "                metrics = pickle.load(f)\n",
    "            \n",
    "            final_loss_index = np.argmin(metrics[\"validation\"][\"inverse_model_repetition_error\"])\n",
    "            \n",
    "            for metric_name in metrics_name:\n",
    "                if agent_group not in groups_metrics[metric_name]:\n",
    "                    groups_metrics[metric_name][agent_group] = []\n",
    "                agent_metric = metrics[\"test\"][metric_name][final_loss_index]\n",
    "                groups_metrics[metric_name][agent_group].append(agent_metric)"
   ]
  },
  {
   "cell_type": "code",
   "execution_count": 8,
   "id": "49934812-df33-4273-b342-d68ccdbc68f0",
   "metadata": {},
   "outputs": [
    {
     "data": {
      "image/png": "[encoded data removed]",
      "text/plain": [
       "<Figure size 432x288 with 1 Axes>"
      ]
     },
     "metadata": {
      "needs_background": "light"
     },
     "output_type": "display_data"
    }
   ],
   "source": [
    "plot_metrics = [\"inverse_model_jerk\", \"inverse_model_repetition_error\"]\n",
    "plot_scales = [\"log\", \"linear\"]\n",
    "\n",
    "plt.figure()\n",
    "ax = plt.subplot()\n",
    "ax.set_xlabel(plot_metrics[0])\n",
    "ax.set_ylabel(plot_metrics[1])\n",
    "ax.set_xscale(plot_scales[0])\n",
    "ax.set_yscale(plot_scales[1])\n",
    "\n",
    "groups_name = groups_metrics[plot_metrics[0]].keys()\n",
    "for group_name in groups_name:\n",
    "    x = np.mean(groups_metrics[plot_metrics[0]][group_name])\n",
    "    y = np.mean(groups_metrics[plot_metrics[1]][group_name])\n",
    "    ax.scatter(x, y, label=group_name)\n",
    "ax.legend()\n",
    "plt.show()"
   ]
  },
  {
   "cell_type": "code",
   "execution_count": 13,
   "id": "c3a20cab-7707-4613-a6c6-4a9973d72f0f",
   "metadata": {},
   "outputs": [
    {
     "data": {
      "image/png": "[encoded data removed]",
      "text/plain": [
       "<Figure size 432x288 with 1 Axes>"
      ]
     },
     "metadata": {
      "needs_background": "light"
     },
     "output_type": "display_data"
    }
   ],
   "source": [
    "plot_metrics = [\"inverse_model_jerk\", \"inverse_model_repetition_error\"]\n",
    "\n",
    "plt.figure()\n",
    "ax = plt.subplot()\n",
    "ax.set_ylabel(plot_metrics[1])\n",
    "\n",
    "groups_name = groups_metrics[plot_metrics[0]].keys()\n",
    "for i_group, group_name in enumerate(groups_name):\n",
    "    if not group_name.startswith(\"pb2007 \"): continue\n",
    "    ax.bar(i_group, groups_metrics[plot_metrics[1]][group_name], label=group_name)\n",
    "ax.legend()\n",
    "plt.show()"
   ]
  },
  {
   "cell_type": "code",
   "execution_count": null,
   "id": "fa38f9ef-27a7-4a2e-8f6f-339a95ce24de",
   "metadata": {},
   "outputs": [],
   "source": []
  }
 ],
 "metadata": {
  "kernelspec": {
   "display_name": "Python 3",
   "language": "python",
   "name": "python3"
  },
  "language_info": {
   "codemirror_mode": {
    "name": "ipython",
    "version": 3
   },
   "file_extension": ".py",
   "mimetype": "text/x-python",
   "name": "python",
   "nbconvert_exporter": "python",
   "pygments_lexer": "ipython3",
   "version": "3.7.5"
  }
 },
 "nbformat": 4,
 "nbformat_minor": 5
}
