{
 "cells": [
  {
   "cell_type": "code",
   "execution_count": 3,
   "id": "8839a8d6-acc0-460b-9cc6-34c17b04620a",
   "metadata": {},
   "outputs": [],
   "source": [
    "import sys\n",
    "sys.path.append(\"..\")\n",
    "\n",
    "from glob import glob\n",
    "import matplotlib.pyplot as plt\n",
    "import ipywidgets as ipw\n",
    "from IPython.display import Audio\n",
    "import numpy as np\n",
    "import pandas as pd\n",
    "import pickle\n",
    "import yaml\n",
    "\n",
    "from lib import utils\n",
    "from lib.notebooks import plot_groups_metrics\n",
    "from communicative_agent import CommunicativeAgent"
   ]
  },
  {
   "cell_type": "code",
   "execution_count": 4,
   "id": "05c0cd2f-6909-4752-8a61-dd48cdebf496",
   "metadata": {},
   "outputs": [],
   "source": [
    "NB_TRAINING = 5\n",
    "JERK_LOSS_WEIGHTS = [0, 0.15]"
   ]
  },
  {
   "cell_type": "code",
   "execution_count": 17,
   "id": "33944f1f-bed3-4d5b-815d-0ef543f7c45a",
   "metadata": {},
   "outputs": [],
   "source": [
    "metrics_name = [\"inverse_model_jerk\", \"inverse_model_repetition_error\"]\n",
    "groups_metrics = { metric_name: {} for metric_name in metrics_name }\n",
    "\n",
    "final_configs = utils.read_yaml_file(\"communicative_final_configs.yaml\")\n",
    "final_quantizer_configs = utils.read_yaml_file(\"../quantizer/quantizer_final_configs.yaml\")\n",
    "\n",
    "for config_name, config in final_configs.items():\n",
    "    quantizer_name = config_name.split(\"-\")[0]\n",
    "    quantizer_config = final_quantizer_configs[\"%s-cepstrum\" % quantizer_name]\n",
    "\n",
    "    for i_training in range(NB_TRAINING):\n",
    "        quantizer_config[\"dataset\"][\"datasplit_seed\"] = i_training\n",
    "        quantizer_signature = utils.get_variable_signature(quantizer_config)\n",
    "\n",
    "        for jerk_loss_weight in JERK_LOSS_WEIGHTS:\n",
    "            config[\"sound_quantizer\"][\"name\"] = \"%s-%s\" % (quantizer_signature, i_training)\n",
    "            config[\"training\"][\"jerk_loss_weight\"] = jerk_loss_weight\n",
    "\n",
    "            agent_group = \"%s jerk=%s\" % (config_name, jerk_loss_weight)\n",
    "            \n",
    "            agent_signature = utils.get_variable_signature(config)\n",
    "            agent_name = \"%s-%s\" % (agent_signature, i_training)\n",
    "            agent_path = \"../out/communicative_agent/%s\" % agent_name\n",
    "            with open(\"%s/metrics.pickle\" % agent_path, \"rb\") as f:\n",
    "                metrics = pickle.load(f)\n",
    "            \n",
    "            final_loss_index = np.argmin(metrics[\"validation\"][\"inverse_model_repetition_error\"])\n",
    "            \n",
    "            for metric_name in metrics_name:\n",
    "                if agent_group not in groups_metrics[metric_name]:\n",
    "                    groups_metrics[metric_name][agent_group] = []\n",
    "                agent_metric = metrics[\"test\"][metric_name][final_loss_index]\n",
    "                groups_metrics[metric_name][agent_group].append(agent_metric)"
   ]
  },
  {
   "cell_type": "code",
   "execution_count": 24,
   "id": "49934812-df33-4273-b342-d68ccdbc68f0",
   "metadata": {},
   "outputs": [
    {
     "name": "stdout",
     "output_type": "stream",
     "text": [
      "pb2007 jerk=0 0.010959197471051344\n",
      "pb2007 jerk=0.15 2866.905648367746\n",
      "pb2007-synth_as_direct jerk=0 0.011766829973618899\n",
      "pb2007-synth_as_direct jerk=0.15 545.5332933698381\n"
     ]
    },
    {
     "data": {
      "image/png": "[encoded data removed]",
      "text/plain": [
       "<Figure size 432x288 with 1 Axes>"
      ]
     },
     "metadata": {
      "needs_background": "light"
     },
     "output_type": "display_data"
    }
   ],
   "source": [
    "plot_metrics = [\"inverse_model_jerk\", \"inverse_model_repetition_error\"]\n",
    "plot_scales = [\"log\", \"linear\"]\n",
    "\n",
    "plt.figure()\n",
    "ax = plt.subplot()\n",
    "ax.set_xlabel(plot_metrics[0])\n",
    "ax.set_ylabel(plot_metrics[1])\n",
    "ax.set_xscale(plot_scales[0])\n",
    "ax.set_yscale(plot_scales[1])\n",
    "\n",
    "groups_name = groups_metrics[plot_metrics[0]].keys()\n",
    "for group_name in groups_name:\n",
    "    print(group_name, x)\n",
    "    x = np.mean(groups_metrics[plot_metrics[0]][group_name])\n",
    "    y = np.mean(groups_metrics[plot_metrics[1]][group_name])\n",
    "    ax.scatter(x, y, label=group_name)\n",
    "ax.legend()\n",
    "plt.show()"
   ]
  },
  {
   "cell_type": "code",
   "execution_count": null,
   "id": "c3a20cab-7707-4613-a6c6-4a9973d72f0f",
   "metadata": {},
   "outputs": [],
   "source": []
  }
 ],
 "metadata": {
  "kernelspec": {
   "display_name": "Python 3",
   "language": "python",
   "name": "python3"
  },
  "language_info": {
   "codemirror_mode": {
    "name": "ipython",
    "version": 3
   },
   "file_extension": ".py",
   "mimetype": "text/x-python",
   "name": "python",
   "nbconvert_exporter": "python",
   "pygments_lexer": "ipython3",
   "version": "3.7.5"
  }
 },
 "nbformat": 4,
 "nbformat_minor": 5
}
