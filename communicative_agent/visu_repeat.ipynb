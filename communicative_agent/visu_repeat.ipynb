{
 "cells": [
  {
   "cell_type": "code",
   "execution_count": 1,
   "id": "2726a691-b2ec-4bd5-a117-59b43b79d240",
   "metadata": {},
   "outputs": [],
   "source": [
    "import sys\n",
    "sys.path.append(\"..\")\n",
    "\n",
    "from glob import glob\n",
    "import matplotlib.pyplot as plt\n",
    "import ipywidgets as ipw\n",
    "from IPython.display import Audio\n",
    "import numpy as np\n",
    "import pickle\n",
    "\n",
    "from communicative_agent import CommunicativeAgent\n",
    "from lib.dataset_wrapper import Dataset\n",
    "from lib.notebooks import show_ema\n",
    "\n",
    "from external import lpcynet"
   ]
  },
  {
   "cell_type": "code",
   "execution_count": 2,
   "id": "c7662d39-2785-461b-b2c2-ce49ea6cc9ea",
   "metadata": {},
   "outputs": [],
   "source": [
    "agents_path = glob(\"../out/communicative_agent/*/\")\n",
    "agents_path.sort()"
   ]
  },
  {
   "cell_type": "code",
   "execution_count": 3,
   "id": "4072fa4f-9b50-4e51-9faa-0706e85d976d",
   "metadata": {},
   "outputs": [],
   "source": [
    "agents_alias = []\n",
    "\n",
    "for agent_path in agents_path:\n",
    "    agent = CommunicativeAgent.reload(agent_path, load_nn=False)\n",
    "    config = agent.config\n",
    "    \n",
    "    if agent.synthesizer.config['dataset']['art_type'] == \"ema\":\n",
    "        continue\n",
    "    \n",
    "    agent_alias = \" \".join((\n",
    "        agent_path,\n",
    "        f\"{','.join(agent.sound_quantizer.config['dataset']['names'])}\",\n",
    "        f\"synth_art={agent.synthesizer.config['dataset']['art_type']}\",\n",
    "        f\"jerk={config['training']['jerk_loss_weight']}\",\n",
    "    ))\n",
    "    \n",
    "    agents_alias.append((agent_alias, agent_path))"
   ]
  },
  {
   "cell_type": "code",
   "execution_count": 4,
   "id": "677f220e-0cab-4ac6-9dd3-f584b10a121f",
   "metadata": {},
   "outputs": [
    {
     "data": {
      "application/vnd.jupyter.widget-view+json": {
       "model_id": "996ee10374eb41efbbc588ac05919373",
       "version_major": 2,
       "version_minor": 0
      },
      "text/plain": [
       "interactive(children=(Dropdown(description='agent_path', options=(('../out/communicative_agent/00b2b5ff5b7c6f9…"
      ]
     },
     "metadata": {},
     "output_type": "display_data"
    }
   ],
   "source": [
    "def show_agent(agent_path):\n",
    "    agent = CommunicativeAgent.reload(agent_path)\n",
    "    \n",
    "    sound_type = agent.synthesizer.config[\"dataset\"][\"sound_type\"]\n",
    "    art_type = agent.synthesizer.config[\"dataset\"][\"art_type\"]\n",
    "    synth_dataset = agent.synthesizer.dataset\n",
    "    \n",
    "    def show_dataset(dataset_name):\n",
    "        dataset = Dataset(dataset_name)\n",
    "        items_cepstrum = dataset.get_items_data(sound_type, cut_silences=False)\n",
    "        items_source = dataset.get_items_data(\"source\", cut_silences=False)\n",
    "        sampling_rate = dataset.features_config[\"wav_sampling_rate\"]\n",
    "        \n",
    "        # items_ema = dataset.get_items_data(\"ema\", cut_silences=True)\n",
    "        \n",
    "        items_name = dataset.get_items_list()\n",
    "        \n",
    "        def resynth_item(item_name):\n",
    "            item_cepstrum = items_cepstrum[item_name]\n",
    "            item_source = items_source[item_name]\n",
    "            item_wave = dataset.get_item_wave(item_name)\n",
    "            nb_frames = len(item_cepstrum)\n",
    "            \n",
    "            repetition = agent.repeat(item_cepstrum)\n",
    "            repeated_cepstrum = repetition[\"sound_repeated\"]\n",
    "            estimated_cepstrum = repetition[\"sound_estimated\"]\n",
    "            estimated_art = repetition[\"art_estimated\"]\n",
    "            \n",
    "            repeated_sound = np.concatenate((repeated_cepstrum, item_source), axis=1)\n",
    "            estimated_sound = np.concatenate((estimated_cepstrum, item_source), axis=1)\n",
    "\n",
    "            repeated_wave = lpcynet.synthesize_frames(repeated_sound)\n",
    "            estimated_wave = lpcynet.synthesize_frames(estimated_sound)\n",
    "            \n",
    "            print(\"Original sound:\")\n",
    "            display(Audio(item_wave, rate=sampling_rate))\n",
    "            print(\"Repetition (Inverse model → Synthesizer → LPCNet):\")\n",
    "            display(Audio(repeated_wave, rate=sampling_rate))\n",
    "            print(\"Estimation (Inverse model → Direct model → LPCNet):\")\n",
    "            display(Audio(estimated_wave, rate=sampling_rate))\n",
    "            \n",
    "            plt.figure(figsize=(nb_frames/20, 6), dpi=120)\n",
    "            \n",
    "            ax = plt.subplot(311)\n",
    "            ax.set_title(\"original %s\" % (sound_type))\n",
    "            ax.imshow(item_cepstrum.T, origin=\"lower\")\n",
    "            \n",
    "            ax = plt.subplot(312)\n",
    "            ax.set_title(\"Repetition\")\n",
    "            ax.imshow(repeated_cepstrum.T, origin=\"lower\")\n",
    "            \n",
    "            ax = plt.subplot(313)\n",
    "            ax.set_title(\"Estimation\")\n",
    "            ax.imshow(estimated_cepstrum.T, origin=\"lower\")\n",
    "            \n",
    "            plt.tight_layout()\n",
    "            plt.show()\n",
    "            \n",
    "            if art_type == \"art_params\":\n",
    "                estimated_art = synth_dataset.art_to_ema(estimated_art)\n",
    "            # item_ema = items_ema[item_name]\n",
    "            show_ema(estimated_art, reference=None, dataset=synth_dataset)\n",
    "        \n",
    "        display(ipw.interactive(resynth_item, item_name=items_name))\n",
    "    display(ipw.interactive(show_dataset, dataset_name=agent.sound_quantizer.config[\"dataset\"][\"names\"]))\n",
    "\n",
    "display(ipw.interactive(show_agent, agent_path=agents_alias))"
   ]
  },
  {
   "cell_type": "code",
   "execution_count": null,
   "id": "c2d70753-d0a7-406d-bff3-747a147f1a17",
   "metadata": {},
   "outputs": [],
   "source": []
  }
 ],
 "metadata": {
  "kernelspec": {
   "display_name": "Python 3",
   "language": "python",
   "name": "python3"
  },
  "language_info": {
   "codemirror_mode": {
    "name": "ipython",
    "version": 3
   },
   "file_extension": ".py",
   "mimetype": "text/x-python",
   "name": "python",
   "nbconvert_exporter": "python",
   "pygments_lexer": "ipython3",
   "version": "3.7.5"
  }
 },
 "nbformat": 4,
 "nbformat_minor": 5
}
