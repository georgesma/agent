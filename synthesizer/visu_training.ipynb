{
 "cells": [
  {
   "cell_type": "code",
   "execution_count": 1,
   "id": "40c96bcd-cb60-4953-a712-8459816a8371",
   "metadata": {},
   "outputs": [
    {
     "name": "stderr",
     "output_type": "stream",
     "text": [
      "/tmp/ipykernel_859/3534759458.py:11: DeprecationWarning: \n",
      "Pyarrow will become a required dependency of pandas in the next major release of pandas (pandas 3.0),\n",
      "(to allow more performant data types, such as the Arrow string type, and better interoperability with other libraries)\n",
      "but was not found to be installed on your system.\n",
      "If this would cause problems for you,\n",
      "please provide us feedback at https://github.com/pandas-dev/pandas/issues/54466\n",
      "        \n",
      "  import pandas as pd\n"
     ]
    }
   ],
   "source": [
    "import sys\n",
    "sys.path.append(\"..\")\n",
    "\n",
    "from glob import glob\n",
    "import matplotlib.pyplot as plt\n",
    "import ipywidgets as ipw\n",
    "from IPython.display import Audio\n",
    "import numpy as np\n",
    "import pickle\n",
    "import yaml\n",
    "import pandas as pd\n",
    "\n",
    "from lib.notebooks import plot_groups_metrics\n",
    "from synthesizer import Synthesizer"
   ]
  },
  {
   "cell_type": "code",
   "execution_count": 2,
   "id": "3a11cf91-bd36-4b70-883f-9da1a9b889a5",
   "metadata": {},
   "outputs": [],
   "source": [
    "synthesizers_path = glob(\"../out/synthesizer/*/\")\n",
    "synthesizers_path.sort()"
   ]
  },
  {
   "cell_type": "code",
   "execution_count": 3,
   "id": "b5e129f0-9df3-4c74-939e-7bcdaaea6414",
   "metadata": {},
   "outputs": [],
   "source": [
    "groups_metrics = {}\n",
    "synthesizers_loss = {\n",
    "    \"path\": [],\n",
    "    \"dataset\": [],\n",
    "    \"hidden_layers\": [],\n",
    "    \"dropout_p\": [],\n",
    "    \"learning_rate\": [],\n",
    "    \"final_loss\": [],\n",
    "}\n",
    "\n",
    "for synthesizer_path in synthesizers_path:\n",
    "    synthesizer = Synthesizer.reload(synthesizer_path, load_nn=False)\n",
    "    config = synthesizer.config\n",
    "    with open(\"%s/metrics.pickle\" % synthesizer_path, \"rb\") as f:\n",
    "        metrics = pickle.load(f)\n",
    "    final_loss = min(metrics[\"validation\"][\"total\"])\n",
    "    \n",
    "    synthesizers_loss[\"path\"].append(synthesizer_path[-5:])\n",
    "    synthesizers_loss[\"dataset\"].append(config['dataset']['name'])\n",
    "    synthesizers_loss[\"hidden_layers\"].append(f\"{len(config['model']['hidden_layers'])}x{config['model']['hidden_layers'][0]}\")\n",
    "    synthesizers_loss[\"dropout_p\"].append(config['model']['dropout_p'])\n",
    "    synthesizers_loss[\"learning_rate\"].append(config['training']['learning_rate'])\n",
    "    synthesizers_loss[\"final_loss\"].append(final_loss)\n",
    "    \n",
    "    group_name = \"\\n\".join((\n",
    "        f\"{config['dataset']['name']}\",\n",
    "        f\"hidden_layers={len(config['model']['hidden_layers'])}x{config['model']['hidden_layers'][0]}\",\n",
    "    ))\n",
    "    \n",
    "    if group_name not in groups_metrics:\n",
    "        groups_metrics[group_name] = {}\n",
    "    groups_metrics[group_name][synthesizer_path] = metrics\n",
    "\n",
    "synthesizers_loss = pd.DataFrame(synthesizers_loss)"
   ]
  },
  {
   "cell_type": "code",
   "execution_count": 6,
   "id": "e28298c1-93b2-4279-b93d-275bcfba089d",
   "metadata": {},
   "outputs": [
    {
     "data": {
      "text/html": [
       "<div>\n",
       "<style scoped>\n",
       "    .dataframe tbody tr th:only-of-type {\n",
       "        vertical-align: middle;\n",
       "    }\n",
       "\n",
       "    .dataframe tbody tr th {\n",
       "        vertical-align: top;\n",
       "    }\n",
       "\n",
       "    .dataframe thead th {\n",
       "        text-align: right;\n",
       "    }\n",
       "</style>\n",
       "<table border=\"1\" class=\"dataframe\">\n",
       "  <thead>\n",
       "    <tr style=\"text-align: right;\">\n",
       "      <th></th>\n",
       "      <th>path</th>\n",
       "      <th>dataset</th>\n",
       "      <th>hidden_layers</th>\n",
       "      <th>dropout_p</th>\n",
       "      <th>learning_rate</th>\n",
       "      <th>final_loss</th>\n",
       "    </tr>\n",
       "  </thead>\n",
       "  <tbody>\n",
       "    <tr>\n",
       "      <th>0</th>\n",
       "      <td>9d-0/</td>\n",
       "      <td>pb2007</td>\n",
       "      <td>4x512</td>\n",
       "      <td>0.05</td>\n",
       "      <td>0.0005</td>\n",
       "      <td>0.921502</td>\n",
       "    </tr>\n",
       "    <tr>\n",
       "      <th>2</th>\n",
       "      <td>9d-2/</td>\n",
       "      <td>pb2007</td>\n",
       "      <td>4x512</td>\n",
       "      <td>0.05</td>\n",
       "      <td>0.0005</td>\n",
       "      <td>0.924421</td>\n",
       "    </tr>\n",
       "    <tr>\n",
       "      <th>4</th>\n",
       "      <td>9d-4/</td>\n",
       "      <td>pb2007</td>\n",
       "      <td>4x512</td>\n",
       "      <td>0.05</td>\n",
       "      <td>0.0005</td>\n",
       "      <td>0.925878</td>\n",
       "    </tr>\n",
       "    <tr>\n",
       "      <th>1</th>\n",
       "      <td>9d-1/</td>\n",
       "      <td>pb2007</td>\n",
       "      <td>4x512</td>\n",
       "      <td>0.05</td>\n",
       "      <td>0.0005</td>\n",
       "      <td>0.928283</td>\n",
       "    </tr>\n",
       "    <tr>\n",
       "      <th>3</th>\n",
       "      <td>9d-3/</td>\n",
       "      <td>pb2007</td>\n",
       "      <td>4x512</td>\n",
       "      <td>0.05</td>\n",
       "      <td>0.0005</td>\n",
       "      <td>0.939316</td>\n",
       "    </tr>\n",
       "  </tbody>\n",
       "</table>\n",
       "</div>"
      ],
      "text/plain": [
       "    path dataset hidden_layers  dropout_p  learning_rate  final_loss\n",
       "0  9d-0/  pb2007         4x512       0.05         0.0005    0.921502\n",
       "2  9d-2/  pb2007         4x512       0.05         0.0005    0.924421\n",
       "4  9d-4/  pb2007         4x512       0.05         0.0005    0.925878\n",
       "1  9d-1/  pb2007         4x512       0.05         0.0005    0.928283\n",
       "3  9d-3/  pb2007         4x512       0.05         0.0005    0.939316"
      ]
     },
     "execution_count": 6,
     "metadata": {},
     "output_type": "execute_result"
    }
   ],
   "source": [
    "synthesizers_loss.sort_values(\"final_loss\").head(20)\n",
    "#print(synthesizers_loss['path'][0])"
   ]
  },
  {
   "cell_type": "code",
   "execution_count": 31,
   "id": "7915cdb0",
   "metadata": {},
   "outputs": [
    {
     "name": "stdout",
     "output_type": "stream",
     "text": [
      "0.921588835415539 0.9211917272559161 0.9227776135410276 0.9227813643378182 0.9212868514361685\n"
     ]
    }
   ],
   "source": [
    "print(groups_metrics['pb2007\\nhidden_layers=4x512']['../out/synthesizer/ea587b76c95fecef01cfd16c7f5f289d-0/']['train']['total'][-1],\n",
    "      groups_metrics['pb2007\\nhidden_layers=4x512']['../out/synthesizer/ea587b76c95fecef01cfd16c7f5f289d-1/']['train']['total'][-1],\n",
    "      groups_metrics['pb2007\\nhidden_layers=4x512']['../out/synthesizer/ea587b76c95fecef01cfd16c7f5f289d-2/']['train']['total'][-1],\n",
    "      groups_metrics['pb2007\\nhidden_layers=4x512']['../out/synthesizer/ea587b76c95fecef01cfd16c7f5f289d-3/']['train']['total'][-1],\n",
    "      groups_metrics['pb2007\\nhidden_layers=4x512']['../out/synthesizer/ea587b76c95fecef01cfd16c7f5f289d-4/']['train']['total'][-1]\n",
    "      )\n",
    "#'../out/synthesizer/ea587b76c95fecef01cfd16c7f5f289d-0/'][\n",
    "\n",
    "\n",
    "#print(groups_metrics.keys())\n"
   ]
  },
  {
   "cell_type": "code",
   "execution_count": 15,
   "id": "197a258b",
   "metadata": {},
   "outputs": [
    {
     "ename": "InvalidIndexError",
     "evalue": "(slice(None, None, None), 0)",
     "output_type": "error",
     "traceback": [
      "\u001b[0;31m---------------------------------------------------------------------------\u001b[0m",
      "\u001b[0;31mTypeError\u001b[0m                                 Traceback (most recent call last)",
      "File \u001b[0;32m/usr/local/lib/python3.10/dist-packages/pandas/core/indexes/base.py:3802\u001b[0m, in \u001b[0;36mIndex.get_loc\u001b[0;34m(self, key)\u001b[0m\n\u001b[1;32m   3801\u001b[0m \u001b[38;5;28;01mtry\u001b[39;00m:\n\u001b[0;32m-> 3802\u001b[0m     \u001b[38;5;28;01mreturn\u001b[39;00m \u001b[38;5;28;43mself\u001b[39;49m\u001b[38;5;241;43m.\u001b[39;49m\u001b[43m_engine\u001b[49m\u001b[38;5;241;43m.\u001b[39;49m\u001b[43mget_loc\u001b[49m\u001b[43m(\u001b[49m\u001b[43mcasted_key\u001b[49m\u001b[43m)\u001b[49m\n\u001b[1;32m   3803\u001b[0m \u001b[38;5;28;01mexcept\u001b[39;00m \u001b[38;5;167;01mKeyError\u001b[39;00m \u001b[38;5;28;01mas\u001b[39;00m err:\n",
      "File \u001b[0;32mindex.pyx:153\u001b[0m, in \u001b[0;36mpandas._libs.index.IndexEngine.get_loc\u001b[0;34m()\u001b[0m\n",
      "File \u001b[0;32mindex.pyx:159\u001b[0m, in \u001b[0;36mpandas._libs.index.IndexEngine.get_loc\u001b[0;34m()\u001b[0m\n",
      "\u001b[0;31mTypeError\u001b[0m: '(slice(None, None, None), 0)' is an invalid key",
      "\nDuring handling of the above exception, another exception occurred:\n",
      "\u001b[0;31mInvalidIndexError\u001b[0m                         Traceback (most recent call last)",
      "Cell \u001b[0;32mIn[15], line 2\u001b[0m\n\u001b[1;32m      1\u001b[0m df \u001b[38;5;241m=\u001b[39m pd\u001b[38;5;241m.\u001b[39mDataFrame(groups_metrics)\n\u001b[0;32m----> 2\u001b[0m \u001b[38;5;28mprint\u001b[39m(\u001b[43mdf\u001b[49m\u001b[43m[\u001b[49m\u001b[43m:\u001b[49m\u001b[43m,\u001b[49m\u001b[38;5;241;43m0\u001b[39;49m\u001b[43m]\u001b[49m)\n",
      "File \u001b[0;32m/usr/local/lib/python3.10/dist-packages/pandas/core/frame.py:4090\u001b[0m, in \u001b[0;36mDataFrame.__getitem__\u001b[0;34m(self, key)\u001b[0m\n\u001b[1;32m   4088\u001b[0m \u001b[38;5;28;01mif\u001b[39;00m \u001b[38;5;28mself\u001b[39m\u001b[38;5;241m.\u001b[39mcolumns\u001b[38;5;241m.\u001b[39mnlevels \u001b[38;5;241m>\u001b[39m \u001b[38;5;241m1\u001b[39m:\n\u001b[1;32m   4089\u001b[0m     \u001b[38;5;28;01mreturn\u001b[39;00m \u001b[38;5;28mself\u001b[39m\u001b[38;5;241m.\u001b[39m_getitem_multilevel(key)\n\u001b[0;32m-> 4090\u001b[0m indexer \u001b[38;5;241m=\u001b[39m \u001b[38;5;28;43mself\u001b[39;49m\u001b[38;5;241;43m.\u001b[39;49m\u001b[43mcolumns\u001b[49m\u001b[38;5;241;43m.\u001b[39;49m\u001b[43mget_loc\u001b[49m\u001b[43m(\u001b[49m\u001b[43mkey\u001b[49m\u001b[43m)\u001b[49m\n\u001b[1;32m   4091\u001b[0m \u001b[38;5;28;01mif\u001b[39;00m is_integer(indexer):\n\u001b[1;32m   4092\u001b[0m     indexer \u001b[38;5;241m=\u001b[39m [indexer]\n",
      "File \u001b[0;32m/usr/local/lib/python3.10/dist-packages/pandas/core/indexes/base.py:3814\u001b[0m, in \u001b[0;36mIndex.get_loc\u001b[0;34m(self, key)\u001b[0m\n\u001b[1;32m   3809\u001b[0m     \u001b[38;5;28;01mraise\u001b[39;00m \u001b[38;5;167;01mKeyError\u001b[39;00m(key) \u001b[38;5;28;01mfrom\u001b[39;00m \u001b[38;5;21;01merr\u001b[39;00m\n\u001b[1;32m   3810\u001b[0m \u001b[38;5;28;01mexcept\u001b[39;00m \u001b[38;5;167;01mTypeError\u001b[39;00m:\n\u001b[1;32m   3811\u001b[0m     \u001b[38;5;66;03m# If we have a listlike key, _check_indexing_error will raise\u001b[39;00m\n\u001b[1;32m   3812\u001b[0m     \u001b[38;5;66;03m#  InvalidIndexError. Otherwise we fall through and re-raise\u001b[39;00m\n\u001b[1;32m   3813\u001b[0m     \u001b[38;5;66;03m#  the TypeError.\u001b[39;00m\n\u001b[0;32m-> 3814\u001b[0m     \u001b[38;5;28;43mself\u001b[39;49m\u001b[38;5;241;43m.\u001b[39;49m\u001b[43m_check_indexing_error\u001b[49m\u001b[43m(\u001b[49m\u001b[43mkey\u001b[49m\u001b[43m)\u001b[49m\n\u001b[1;32m   3815\u001b[0m     \u001b[38;5;28;01mraise\u001b[39;00m\n",
      "File \u001b[0;32m/usr/local/lib/python3.10/dist-packages/pandas/core/indexes/base.py:6058\u001b[0m, in \u001b[0;36mIndex._check_indexing_error\u001b[0;34m(self, key)\u001b[0m\n\u001b[1;32m   6054\u001b[0m \u001b[38;5;28;01mdef\u001b[39;00m \u001b[38;5;21m_check_indexing_error\u001b[39m(\u001b[38;5;28mself\u001b[39m, key):\n\u001b[1;32m   6055\u001b[0m     \u001b[38;5;28;01mif\u001b[39;00m \u001b[38;5;129;01mnot\u001b[39;00m is_scalar(key):\n\u001b[1;32m   6056\u001b[0m         \u001b[38;5;66;03m# if key is not a scalar, directly raise an error (the code below\u001b[39;00m\n\u001b[1;32m   6057\u001b[0m         \u001b[38;5;66;03m# would convert to numpy arrays and raise later any way) - GH29926\u001b[39;00m\n\u001b[0;32m-> 6058\u001b[0m         \u001b[38;5;28;01mraise\u001b[39;00m InvalidIndexError(key)\n",
      "\u001b[0;31mInvalidIndexError\u001b[0m: (slice(None, None, None), 0)"
     ]
    }
   ],
   "source": [
    "df = pd.DataFrame(groups_metrics)\n"
   ]
  },
  {
   "cell_type": "code",
   "execution_count": 7,
   "id": "530c2975-aeb1-4129-8ac8-af0abc7cdfb6",
   "metadata": {},
   "outputs": [
    {
     "data": {
      "application/vnd.jupyter.widget-view+json": {
       "model_id": "82dd5326da8b40338e95b55435c43835",
       "version_major": 2,
       "version_minor": 0
      },
      "text/plain": [
       "interactive(children=(Dropdown(description='split_name', index=1, options=('train', 'validation'), value='vali…"
      ]
     },
     "metadata": {},
     "output_type": "display_data"
    }
   ],
   "source": [
    "metrics_name = [\n",
    "    \"total\",\n",
    "]\n",
    "\n",
    "def show_metrics(split_name=\"validation\"):\n",
    "    plot_groups_metrics(groups_metrics, metrics_name, split_name)\n",
    "display(ipw.interactive(show_metrics, split_name=[\"train\", \"validation\"]))"
   ]
  },
  {
   "cell_type": "code",
   "execution_count": null,
   "id": "446b316a-78a1-4269-bd99-1b03f24280d3",
   "metadata": {},
   "outputs": [],
   "source": []
  }
 ],
 "metadata": {
  "kernelspec": {
   "display_name": "Python 3",
   "language": "python",
   "name": "python3"
  },
  "language_info": {
   "codemirror_mode": {
    "name": "ipython",
    "version": 3
   },
   "file_extension": ".py",
   "mimetype": "text/x-python",
   "name": "python",
   "nbconvert_exporter": "python",
   "pygments_lexer": "ipython3",
   "version": "3.10.12"
  }
 },
 "nbformat": 4,
 "nbformat_minor": 5
}
