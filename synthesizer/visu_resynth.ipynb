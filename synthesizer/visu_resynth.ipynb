{
 "cells": [
  {
   "cell_type": "code",
   "execution_count": 2,
   "id": "ffa60e6b-f469-470a-a8fb-069cd0085c66",
   "metadata": {},
   "outputs": [],
   "source": [
    "import sys\n",
    "sys.path.append(\"..\")\n",
    "\n",
    "from glob import glob\n",
    "import matplotlib.pyplot as plt\n",
    "import ipywidgets as ipw\n",
    "from IPython.display import Audio\n",
    "import numpy as np \n",
    "\n",
    "from synthesizer import Synthesizer\n",
    "\n",
    "from external import *"
   ]
  },
  {
   "cell_type": "code",
   "execution_count": 3,
   "id": "1d46b393-6569-4f06-a25b-077bf3e839a2",
   "metadata": {},
   "outputs": [],
   "source": [
    "synthesizers_path = glob(\"../out/synthesizer/*/\")\n",
    "synthesizers_path.sort()"
   ]
  },
  {
   "cell_type": "code",
   "execution_count": 4,
   "id": "c686f786-c983-41a0-a544-270982879cd7",
   "metadata": {},
   "outputs": [
    {
     "data": {
      "application/vnd.jupyter.widget-view+json": {
       "model_id": "30f4eb3c2e6e4abe8295add4630e1605",
       "version_major": 2,
       "version_minor": 0
      },
      "text/plain": [
       "interactive(children=(Dropdown(description='synthesizer_path', options=('../out/synthesizer\\\\ea587b76c95fecef0…"
      ]
     },
     "metadata": {},
     "output_type": "display_data"
    }
   ],
   "source": [
    "def show_synthesizer(synthesizer_path):\n",
    "    synthesizer = Synthesizer.reload(synthesizer_path)\n",
    "    \n",
    "    dataset = synthesizer.dataset\n",
    "    art_type = synthesizer.config[\"dataset\"][\"art_type\"]\n",
    "    sound_type = synthesizer.config[\"dataset\"][\"sound_type\"]\n",
    "    \n",
    "    items_art = dataset.get_items_data(art_type, cut_silences=True)\n",
    "    items_source = dataset.get_items_data(\"source\", cut_silences=True)\n",
    "    items_cepstrum = dataset.get_items_data(sound_type, cut_silences=True)\n",
    "    \n",
    "    sampling_rate = dataset.features_config[\"wav_sampling_rate\"]\n",
    "    \n",
    "    items_name = dataset.get_items_list()\n",
    "    \n",
    "    def resynth_item(item_name):\n",
    "        item_art = items_art[item_name]\n",
    "        item_cesptrum = items_cepstrum[item_name]\n",
    "        item_source = items_source[item_name]\n",
    "        item_sound = np.concatenate((item_cesptrum, item_source), axis=1)\n",
    "        item_wave = dataset.get_item_wave(item_name)\n",
    "        \n",
    "        nb_frames = len(item_sound)\n",
    "        \n",
    "        resynth_cepstrum = synthesizer.synthesize(item_art)\n",
    "        resynth_sound = np.concatenate((resynth_cepstrum, item_source), axis=1)\n",
    "        resynth_wave_from_melspec = lpcynet.synthesize_frames(item_sound)\n",
    "        resynth_wave_from_art = lpcynet.synthesize_frames(resynth_sound)\n",
    "        \n",
    "        print(\"Original sound:\")\n",
    "        display(Audio(item_wave, rate=sampling_rate))\n",
    "        print(\"Resynth (original %s → LPCNet):\" % (sound_type))\n",
    "        display(Audio(resynth_wave_from_melspec, rate=sampling_rate))\n",
    "        print(\"Resynth (%s → estimated %s → LPCNet):\" % (art_type, sound_type))\n",
    "        display(Audio(resynth_wave_from_art, rate=sampling_rate))\n",
    "        \n",
    "        mse = np.mean((synthesizer.sound_scaler.transform(item_cesptrum) - synthesizer.sound_scaler.transform(resynth_cepstrum)) ** 2)\n",
    "        print(\"MSE (normalized space):\", mse)\n",
    "        \n",
    "        mse = np.mean((item_sound - resynth_sound) ** 2)\n",
    "        print(\"MSE (data space):\", mse)\n",
    "        \n",
    "        plt.figure(figsize=(nb_frames/20, 4), dpi=120)\n",
    "        \n",
    "        ax = plt.subplot(211)\n",
    "        ax.set_title(\"original %s\" % (sound_type))\n",
    "        ax.imshow(item_sound.T, origin=\"lower\")\n",
    "        \n",
    "        ax = plt.subplot(212)\n",
    "        ax.set_title(\"%s resynthesized from %s\" % (sound_type, art_type))\n",
    "        ax.imshow(resynth_sound.T, origin=\"lower\")\n",
    "        \n",
    "        plt.tight_layout()\n",
    "        plt.show()\n",
    "    \n",
    "    display(ipw.interactive(resynth_item, item_name=items_name))\n",
    "\n",
    "display(ipw.interactive(show_synthesizer, synthesizer_path=synthesizers_path))"
   ]
  },
  {
   "cell_type": "code",
   "execution_count": null,
   "id": "fd162535-4fec-40fa-80d6-5fe8d1b6acac",
   "metadata": {},
   "outputs": [],
   "source": []
  }
 ],
 "metadata": {
  "kernelspec": {
   "display_name": "Python 3",
   "language": "python",
   "name": "python3"
  },
  "language_info": {
   "codemirror_mode": {
    "name": "ipython",
    "version": 3
   },
   "file_extension": ".py",
   "mimetype": "text/x-python",
   "name": "python",
   "nbconvert_exporter": "python",
   "pygments_lexer": "ipython3",
   "version": "3.11.0"
  }
 },
 "nbformat": 4,
 "nbformat_minor": 5
}
