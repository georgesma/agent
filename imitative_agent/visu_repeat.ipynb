{
 "cells": [
  {
   "cell_type": "code",
   "execution_count": 1,
   "id": "ffa60e6b-f469-470a-a8fb-069cd0085c66",
   "metadata": {},
   "outputs": [],
   "source": [
    "import sys\n",
    "sys.path.append(\"..\")\n",
    "\n",
    "from glob import glob\n",
    "import matplotlib.pyplot as plt\n",
    "import ipywidgets as ipw\n",
    "from IPython.display import Audio\n",
    "import numpy as np \n",
    "import pickle\n",
    "\n",
    "from imitative_agent import ImitativeAgent\n",
    "from lib.dataset_wrapper import Dataset\n",
    "from lib.notebooks import show_ema\n",
    "from external import lpcynet"
   ]
  },
  {
   "cell_type": "code",
   "execution_count": 2,
   "id": "1d46b393-6569-4f06-a25b-077bf3e839a2",
   "metadata": {},
   "outputs": [],
   "source": [
    "agents_path = glob(\"../out/imitative_agent/*/\")\n",
    "agents_path.sort()"
   ]
  },
  {
   "cell_type": "code",
   "execution_count": 3,
   "id": "c3b8a943-a83a-40fc-9089-55ed02c1a87e",
   "metadata": {},
   "outputs": [],
   "source": [
    "agents_alias = {}\n",
    "\n",
    "for agent_path in agents_path:\n",
    "    agent = ImitativeAgent.reload(agent_path, load_nn=False)\n",
    "    config = agent.config\n",
    "    \n",
    "    if config['training']['jerk_loss_ceil'] > 0:\n",
    "        continue\n",
    "        \n",
    "    agent_i = agent_path[-2]\n",
    "    agent_alias = \" \".join((\n",
    "        f\"{','.join(config['dataset']['names'])}\",\n",
    "        f\"synth_art={agent.synthesizer.config['dataset']['art_type']}\",\n",
    "        f\"jerk_c={config['training']['jerk_loss_ceil']}\",\n",
    "        f\"jerk_w={config['training']['jerk_loss_weight']}\",\n",
    "        f\"bi={config['model']['inverse_model']['bidirectional']}\",\n",
    "        f\"({agent_i})\",\n",
    "    ))\n",
    "    \n",
    "    agents_alias[agent_alias] = agent_path"
   ]
  },
  {
   "cell_type": "code",
   "execution_count": 4,
   "id": "c686f786-c983-41a0-a544-270982879cd7",
   "metadata": {},
   "outputs": [
    {
     "data": {
      "application/vnd.jupyter.widget-view+json": {
       "model_id": "172e4b5b1a2b47e69b8bca05274757af",
       "version_major": 2,
       "version_minor": 0
      },
      "text/plain": [
       "interactive(children=(Dropdown(description='agent_alias', options=('pb2007 synth_art=art_params jerk_c=0 jerk_…"
      ]
     },
     "metadata": {},
     "output_type": "display_data"
    }
   ],
   "source": [
    "datasets_current_item = {}\n",
    "\n",
    "def show_agent(agent_alias):\n",
    "    agent_path = agents_alias[agent_alias]\n",
    "    agent = ImitativeAgent.reload(agent_path)\n",
    "    \n",
    "    sound_type = agent.config[\"dataset\"][\"sound_type\"]\n",
    "    art_type = agent.synthesizer.config[\"dataset\"][\"art_type\"]\n",
    "    synth_dataset = agent.synthesizer.dataset\n",
    "    \n",
    "    def show_dataset(dataset_name):\n",
    "        dataset = Dataset(dataset_name)\n",
    "        items_cepstrum = dataset.get_items_data(sound_type, cut_silences=True)\n",
    "        items_source = dataset.get_items_data(\"source\", cut_silences=True)\n",
    "        sampling_rate = dataset.features_config[\"wav_sampling_rate\"]\n",
    "        \n",
    "        items_ema = dataset.get_items_data(\"ema\", cut_silences=True)\n",
    "        \n",
    "        items_name = dataset.get_items_list()\n",
    "        if dataset_name in datasets_current_item:\n",
    "            current_item = datasets_current_item[dataset_name]\n",
    "        else:\n",
    "            current_item = items_name[0][0]\n",
    "        \n",
    "        def resynth_item(item_name=current_item, freeze_source=False):\n",
    "            datasets_current_item[dataset_name] = item_name\n",
    "            \n",
    "            item_cepstrum = items_cepstrum[item_name]\n",
    "            item_source = items_source[item_name]\n",
    "            item_wave = dataset.get_item_wave(item_name)\n",
    "            nb_frames = len(item_cepstrum)\n",
    "            \n",
    "            repetition = agent.repeat(item_cepstrum)\n",
    "            repeated_cepstrum = repetition[\"sound_repeated\"]\n",
    "            estimated_cepstrum = repetition[\"sound_estimated\"]\n",
    "            estimated_art = repetition[\"art_estimated\"]\n",
    "            \n",
    "            if freeze_source:\n",
    "                item_source[:] = (1, 0)\n",
    "            \n",
    "            repeated_sound = np.concatenate((repeated_cepstrum, item_source), axis=1)\n",
    "            estimated_sound = np.concatenate((estimated_cepstrum, item_source), axis=1)\n",
    "\n",
    "            repeated_wave = lpcynet.synthesize_frames(repeated_sound)\n",
    "            estimated_wave = lpcynet.synthesize_frames(estimated_sound)\n",
    "            \n",
    "            print(\"Original sound:\")\n",
    "            display(Audio(item_wave, rate=sampling_rate))\n",
    "            print(\"Repetition (Inverse model → Synthesizer → LPCNet):\")\n",
    "            display(Audio(repeated_wave, rate=sampling_rate))\n",
    "            print(\"Estimation (Inverse model → Direct model → LPCNet):\")\n",
    "            display(Audio(estimated_wave, rate=sampling_rate))\n",
    "            \n",
    "            plt.figure(figsize=(nb_frames/20, 6), dpi=120)\n",
    "            \n",
    "            ax = plt.subplot(311)\n",
    "            ax.set_title(\"original %s\" % (sound_type))\n",
    "            ax.imshow(item_cepstrum.T, origin=\"lower\")\n",
    "            \n",
    "            ax = plt.subplot(312)\n",
    "            ax.set_title(\"Repetition\")\n",
    "            ax.imshow(repeated_cepstrum.T, origin=\"lower\")\n",
    "            \n",
    "            ax = plt.subplot(313)\n",
    "            ax.set_title(\"Estimation\")\n",
    "            ax.imshow(estimated_cepstrum.T, origin=\"lower\")\n",
    "            \n",
    "            plt.tight_layout()\n",
    "            plt.show()\n",
    "            \n",
    "            if art_type == \"art_params\":\n",
    "                estimated_art = dataset.art_to_ema(estimated_art)\n",
    "            item_ema = items_ema[item_name]\n",
    "            show_ema(estimated_art, reference=item_ema, dataset=synth_dataset)\n",
    "        \n",
    "        display(ipw.interactive(resynth_item, item_name=items_name, freeze_source=False))\n",
    "    display(ipw.interactive(show_dataset, dataset_name=agent.config[\"dataset\"][\"names\"]))\n",
    "\n",
    "display(ipw.interactive(show_agent, agent_alias=sorted(agents_alias.keys())))"
   ]
  },
  {
   "cell_type": "code",
   "execution_count": null,
   "id": "c0fc94bc-cfbb-447d-bb36-c3dcc246f307",
   "metadata": {},
   "outputs": [],
   "source": []
  },
  {
   "cell_type": "code",
   "execution_count": null,
   "id": "0deedc2c-fb42-498d-8df2-81330618a229",
   "metadata": {},
   "outputs": [],
   "source": []
  }
 ],
 "metadata": {
  "kernelspec": {
   "display_name": "Python 3",
   "language": "python",
   "name": "python3"
  },
  "language_info": {
   "codemirror_mode": {
    "name": "ipython",
    "version": 3
   },
   "file_extension": ".py",
   "mimetype": "text/x-python",
   "name": "python",
   "nbconvert_exporter": "python",
   "pygments_lexer": "ipython3",
   "version": "3.7.16"
  }
 },
 "nbformat": 4,
 "nbformat_minor": 5
}
