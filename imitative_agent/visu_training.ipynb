{
 "cells": [
  {
   "cell_type": "code",
   "execution_count": 1,
   "id": "3f31daa2-030f-4eee-b5c6-b80a71e0d983",
   "metadata": {},
   "outputs": [
    {
     "name": "stdout",
     "output_type": "stream",
     "text": [
      "current path: c:\\Users\\vpaul\\Documents\\Inner_Speech\\agent\\imitative_agent\n"
     ]
    }
   ],
   "source": [
    "import sys\n",
    "sys.path.append(\"..\")\n",
    "\n",
    "from glob import glob\n",
    "import matplotlib.pyplot as plt\n",
    "import ipywidgets as ipw\n",
    "from IPython.display import Audio\n",
    "import numpy as np\n",
    "import pickle\n",
    "import yaml\n",
    "\n",
    "from lib.notebooks import plot_groups_metrics\n",
    "from imitative_agent import ImitativeAgent"
   ]
  },
  {
   "cell_type": "code",
   "execution_count": 2,
   "id": "0568ed6a-56ec-4209-9324-ba4acf68b948",
   "metadata": {},
   "outputs": [],
   "source": [
    "agents_path = glob(\"../out/imitative_agent/*/\")\n",
    "agents_path.sort()"
   ]
  },
  {
   "cell_type": "code",
   "execution_count": 3,
   "id": "e55f3269-7d09-4ba9-864f-e47996122503",
   "metadata": {},
   "outputs": [],
   "source": [
    "groups_metrics = {}\n",
    "\n",
    "for agent_path in agents_path:\n",
    "    agent = ImitativeAgent.reload(agent_path, load_nn=False)\n",
    "    config = agent.config\n",
    "    with open(\"%s/metrics.pickle\" % agent_path, \"rb\") as f:\n",
    "        metrics = pickle.load(f)\n",
    "    \n",
    "    if config['training']['jerk_loss_weight'] != 1:\n",
    "        continue\n",
    "    \n",
    "    group_name = \"\\n\".join((\n",
    "        f\"{','.join(config['dataset']['names'])}\",\n",
    "        f\"synth_art={agent.synthesizer.config['dataset']['art_type']}\",\n",
    "        f\"jerk_c={config['training']['jerk_loss_ceil']}\",\n",
    "        f\"jerk_w={config['training']['jerk_loss_weight']}\",\n",
    "        f\"bi={config['model']['inverse_model']['bidirectional']}\",\n",
    "    ))\n",
    "    \n",
    "    if group_name not in groups_metrics:\n",
    "        groups_metrics[group_name] = {}\n",
    "    groups_metrics[group_name][agent_path] = metrics"
   ]
  },
  {
   "cell_type": "code",
   "execution_count": 4,
   "id": "f6fbe15c-e469-4357-a393-de44c63f0506",
   "metadata": {},
   "outputs": [
    {
     "data": {
      "application/vnd.jupyter.widget-view+json": {
       "model_id": "a4eb05193bf044508dd38660b2b31ff2",
       "version_major": 2,
       "version_minor": 0
      },
      "text/plain": [
       "interactive(children=(Dropdown(description='split_name', index=2, options=('train', 'validation', 'test'), val…"
      ]
     },
     "metadata": {},
     "output_type": "display_data"
    }
   ],
   "source": [
    "metrics_name = [\n",
    "    \"direct_model_estimation_error\",\n",
    "    \"inverse_model_estimation_error\",\n",
    "    \"inverse_model_repetition_error\",\n",
    "    \"inverse_model_jerk\",\n",
    "]\n",
    "\n",
    "def show_metrics(split_name=\"test\"):\n",
    "    plot_groups_metrics(groups_metrics, metrics_name, split_name)\n",
    "display(ipw.interactive(show_metrics, split_name=[\"train\", \"validation\", \"test\"]))"
   ]
  },
  {
   "cell_type": "code",
   "execution_count": null,
   "id": "309612a7-a74e-4d61-85a6-12d8f11f0f4f",
   "metadata": {},
   "outputs": [],
   "source": []
  }
 ],
 "metadata": {
  "kernelspec": {
   "display_name": "Python 3",
   "language": "python",
   "name": "python3"
  },
  "language_info": {
   "codemirror_mode": {
    "name": "ipython",
    "version": 3
   },
   "file_extension": ".py",
   "mimetype": "text/x-python",
   "name": "python",
   "nbconvert_exporter": "python",
   "pygments_lexer": "ipython3",
   "version": "3.11.0"
  }
 },
 "nbformat": 4,
 "nbformat_minor": 5
}
