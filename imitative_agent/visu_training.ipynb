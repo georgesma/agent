{
 "cells": [
  {
   "cell_type": "code",
   "execution_count": 1,
   "id": "3f31daa2-030f-4eee-b5c6-b80a71e0d983",
   "metadata": {},
   "outputs": [],
   "source": [
    "import sys\n",
    "sys.path.append(\"..\")\n",
    "\n",
    "from glob import glob\n",
    "import matplotlib.pyplot as plt\n",
    "import ipywidgets as ipw\n",
    "from IPython.display import Audio\n",
    "import numpy as np\n",
    "import pickle\n",
    "import yaml\n",
    "import pandas as pd\n",
    "\n",
    "from lib.notebooks import plot_groups_metrics\n",
    "from imitative_agent import ImitativeAgent"
   ]
  },
  {
   "cell_type": "code",
   "execution_count": 2,
   "id": "0568ed6a-56ec-4209-9324-ba4acf68b948",
   "metadata": {},
   "outputs": [],
   "source": [
    "agents_path = glob(\"../out/imitative_agent/*/\")\n",
    "agents_path.sort()"
   ]
  },
  {
   "cell_type": "code",
   "execution_count": 7,
   "id": "3a94da8f-fb66-4600-8ad8-075cf282e345",
   "metadata": {},
   "outputs": [
    {
     "name": "stderr",
     "output_type": "stream",
     "text": [
      "/home/georges1/anaconda3/lib/python3.7/site-packages/torch/nn/modules/rnn.py:65: UserWarning: dropout option adds dropout after all but last recurrent layer, so non-zero dropout expects num_layers greater than 1, but got dropout=0.37691562762983044 and num_layers=1\n",
      "  \"num_layers={}\".format(dropout, num_layers))\n",
      "/home/georges1/anaconda3/lib/python3.7/site-packages/torch/nn/modules/rnn.py:65: UserWarning: dropout option adds dropout after all but last recurrent layer, so non-zero dropout expects num_layers greater than 1, but got dropout=0.011016616762974218 and num_layers=1\n",
      "  \"num_layers={}\".format(dropout, num_layers))\n",
      "/home/georges1/anaconda3/lib/python3.7/site-packages/torch/nn/modules/rnn.py:65: UserWarning: dropout option adds dropout after all but last recurrent layer, so non-zero dropout expects num_layers greater than 1, but got dropout=0.6155439280874151 and num_layers=1\n",
      "  \"num_layers={}\".format(dropout, num_layers))\n",
      "/home/georges1/anaconda3/lib/python3.7/site-packages/torch/nn/modules/rnn.py:65: UserWarning: dropout option adds dropout after all but last recurrent layer, so non-zero dropout expects num_layers greater than 1, but got dropout=0.5671163224161636 and num_layers=1\n",
      "  \"num_layers={}\".format(dropout, num_layers))\n",
      "/home/georges1/anaconda3/lib/python3.7/site-packages/torch/nn/modules/rnn.py:65: UserWarning: dropout option adds dropout after all but last recurrent layer, so non-zero dropout expects num_layers greater than 1, but got dropout=0.25859523487360936 and num_layers=1\n",
      "  \"num_layers={}\".format(dropout, num_layers))\n",
      "/home/georges1/anaconda3/lib/python3.7/site-packages/torch/nn/modules/rnn.py:65: UserWarning: dropout option adds dropout after all but last recurrent layer, so non-zero dropout expects num_layers greater than 1, but got dropout=0.11313409666361048 and num_layers=1\n",
      "  \"num_layers={}\".format(dropout, num_layers))\n",
      "/home/georges1/anaconda3/lib/python3.7/site-packages/torch/nn/modules/rnn.py:65: UserWarning: dropout option adds dropout after all but last recurrent layer, so non-zero dropout expects num_layers greater than 1, but got dropout=0.40120967017893827 and num_layers=1\n",
      "  \"num_layers={}\".format(dropout, num_layers))\n",
      "/home/georges1/anaconda3/lib/python3.7/site-packages/torch/nn/modules/rnn.py:65: UserWarning: dropout option adds dropout after all but last recurrent layer, so non-zero dropout expects num_layers greater than 1, but got dropout=0.7515102642248005 and num_layers=1\n",
      "  \"num_layers={}\".format(dropout, num_layers))\n",
      "/home/georges1/anaconda3/lib/python3.7/site-packages/torch/nn/modules/rnn.py:65: UserWarning: dropout option adds dropout after all but last recurrent layer, so non-zero dropout expects num_layers greater than 1, but got dropout=0.5318725097346495 and num_layers=1\n",
      "  \"num_layers={}\".format(dropout, num_layers))\n",
      "/home/georges1/anaconda3/lib/python3.7/site-packages/torch/nn/modules/rnn.py:65: UserWarning: dropout option adds dropout after all but last recurrent layer, so non-zero dropout expects num_layers greater than 1, but got dropout=0.17468274292378128 and num_layers=1\n",
      "  \"num_layers={}\".format(dropout, num_layers))\n",
      "/home/georges1/anaconda3/lib/python3.7/site-packages/torch/nn/modules/rnn.py:65: UserWarning: dropout option adds dropout after all but last recurrent layer, so non-zero dropout expects num_layers greater than 1, but got dropout=0.12406045037224145 and num_layers=1\n",
      "  \"num_layers={}\".format(dropout, num_layers))\n",
      "/home/georges1/anaconda3/lib/python3.7/site-packages/torch/nn/modules/rnn.py:65: UserWarning: dropout option adds dropout after all but last recurrent layer, so non-zero dropout expects num_layers greater than 1, but got dropout=0.333264393317806 and num_layers=1\n",
      "  \"num_layers={}\".format(dropout, num_layers))\n",
      "/home/georges1/anaconda3/lib/python3.7/site-packages/torch/nn/modules/rnn.py:65: UserWarning: dropout option adds dropout after all but last recurrent layer, so non-zero dropout expects num_layers greater than 1, but got dropout=0.27435636988864587 and num_layers=1\n",
      "  \"num_layers={}\".format(dropout, num_layers))\n",
      "/home/georges1/anaconda3/lib/python3.7/site-packages/torch/nn/modules/rnn.py:65: UserWarning: dropout option adds dropout after all but last recurrent layer, so non-zero dropout expects num_layers greater than 1, but got dropout=0.10937788413984646 and num_layers=1\n",
      "  \"num_layers={}\".format(dropout, num_layers))\n",
      "/home/georges1/anaconda3/lib/python3.7/site-packages/torch/nn/modules/rnn.py:65: UserWarning: dropout option adds dropout after all but last recurrent layer, so non-zero dropout expects num_layers greater than 1, but got dropout=0.06966197886954717 and num_layers=1\n",
      "  \"num_layers={}\".format(dropout, num_layers))\n",
      "/home/georges1/anaconda3/lib/python3.7/site-packages/torch/nn/modules/rnn.py:65: UserWarning: dropout option adds dropout after all but last recurrent layer, so non-zero dropout expects num_layers greater than 1, but got dropout=0.5178805550759791 and num_layers=1\n",
      "  \"num_layers={}\".format(dropout, num_layers))\n",
      "/home/georges1/anaconda3/lib/python3.7/site-packages/torch/nn/modules/rnn.py:65: UserWarning: dropout option adds dropout after all but last recurrent layer, so non-zero dropout expects num_layers greater than 1, but got dropout=0.318203388128566 and num_layers=1\n",
      "  \"num_layers={}\".format(dropout, num_layers))\n",
      "/home/georges1/anaconda3/lib/python3.7/site-packages/torch/nn/modules/rnn.py:65: UserWarning: dropout option adds dropout after all but last recurrent layer, so non-zero dropout expects num_layers greater than 1, but got dropout=0.8707847274511851 and num_layers=1\n",
      "  \"num_layers={}\".format(dropout, num_layers))\n",
      "/home/georges1/anaconda3/lib/python3.7/site-packages/torch/nn/modules/rnn.py:65: UserWarning: dropout option adds dropout after all but last recurrent layer, so non-zero dropout expects num_layers greater than 1, but got dropout=0.10034561089158543 and num_layers=1\n",
      "  \"num_layers={}\".format(dropout, num_layers))\n"
     ]
    }
   ],
   "source": [
    "groups_metrics = {}\n",
    "agents_loss = {\n",
    "    \"path\": [],\n",
    "    \"datasets\": [],\n",
    "    \"inverse_learning_rate\": [],\n",
    "    \"inverse_layers\": [],\n",
    "    \"inverse_dropout_p\": [],\n",
    "    \"direct_learning_rate\": [],\n",
    "    \"direct_layers\": [],\n",
    "    \"direct_dropout_p\": [],\n",
    "    \"jerk_weight\": [],\n",
    "    \"direct_estimation_error\": [],\n",
    "    \"inverse_estimation_error\": [],\n",
    "    \"jerk\": [],\n",
    "    \"repetition_error\": [],\n",
    "}\n",
    "\n",
    "for agent_path in agents_path:\n",
    "    agent = ImitativeAgent.reload(agent_path, load_nn=False)\n",
    "    config = agent.config\n",
    "    with open(\"%s/metrics.pickle\" % agent_path, \"rb\") as f:\n",
    "        metrics = pickle.load(f)\n",
    "    \n",
    "    agents_loss[\"path\"].append(agent_path[-5:-1])\n",
    "    agents_loss[\"datasets\"].append(\",\".join(agent.config['dataset']['names']))\n",
    "\n",
    "    training_config = config[\"training\"]\n",
    "    inverse_model_learning_rate = training_config[\"inverse_model_learning_rate\"] if \"inverse_model_learning_rate\" in training_config else training_config[\"learning_rate\"]\n",
    "    direct_model_learning_rate = training_config[\"direct_model_learning_rate\"] if \"direct_model_learning_rate\" in training_config else training_config[\"learning_rate\"]\n",
    "\n",
    "    agents_loss[\"inverse_learning_rate\"].append(inverse_model_learning_rate)\n",
    "    agents_loss[\"inverse_layers\"].append(f\"{config['model']['inverse_model']['num_layers']}x{config['model']['inverse_model']['hidden_size']}\")\n",
    "    agents_loss[\"inverse_dropout_p\"].append(config['model']['inverse_model']['dropout_p'])\n",
    "\n",
    "    if 'use_synth_as_direct_model' not in config['model']:\n",
    "        agents_loss[\"direct_learning_rate\"].append(direct_model_learning_rate)\n",
    "        agents_loss[\"direct_layers\"].append(f\"{len(config['model']['direct_model']['hidden_layers'])}x{config['model']['direct_model']['hidden_layers'][0]}\")\n",
    "        agents_loss[\"direct_dropout_p\"].append(config['model']['direct_model']['dropout_p'])\n",
    "    else:\n",
    "        agents_loss[\"direct_learning_rate\"].append(0)\n",
    "        agents_loss[\"direct_layers\"].append(\"synth\")\n",
    "        agents_loss[\"direct_dropout_p\"].append(0)\n",
    "    \n",
    "    agents_loss[\"jerk_weight\"].append(config['training']['jerk_loss_weight'])\n",
    "\n",
    "    final_loss_index = np.argmin(metrics[\"validation\"][\"inverse_model_repetition_error\"])\n",
    "    \n",
    "    \n",
    "    if 'use_synth_as_direct_model' not in config['model']:\n",
    "        agents_loss[\"direct_estimation_error\"].append(metrics[\"test\"][\"direct_model_estimation_error\"][final_loss_index])\n",
    "    else:\n",
    "        agents_loss[\"direct_estimation_error\"].append(0)\n",
    "\n",
    "    agents_loss[\"inverse_estimation_error\"].append(metrics[\"test\"][\"inverse_model_estimation_error\"][final_loss_index])\n",
    "    agents_loss[\"jerk\"].append(metrics[\"test\"][\"inverse_model_jerk\"][final_loss_index])\n",
    "    agents_loss[\"repetition_error\"].append(metrics[\"test\"][\"inverse_model_repetition_error\"][final_loss_index])\n",
    "    \n",
    "    group_name = \"\\n\".join((\n",
    "        f\"datasets={','.join(agent.config['dataset']['names'])}\",\n",
    "        f\"synth_art={agent.synthesizer.config['dataset']['art_type']}\",\n",
    "        f\"jerk_w={config['training']['jerk_loss_weight']}\",\n",
    "        # f\"frame_padding={config['model']['sound_quantizer']['frame_padding']}\",\n",
    "    ))\n",
    "    \n",
    "    if group_name not in groups_metrics:\n",
    "        groups_metrics[group_name] = {}\n",
    "    groups_metrics[group_name][agent_path] = metrics\n",
    "\n",
    "agents_loss = pd.DataFrame(agents_loss)"
   ]
  },
  {
   "cell_type": "code",
   "execution_count": 8,
   "id": "e761cc8a-ed86-454c-8f44-996f1926f891",
   "metadata": {},
   "outputs": [
    {
     "data": {
      "application/vnd.jupyter.widget-view+json": {
       "model_id": "bdd1c9d7278a4681b8200046e5b7af4f",
       "version_major": 2,
       "version_minor": 0
      },
      "text/plain": [
       "interactive(children=(Dropdown(description='measure', index=12, options=('path', 'datasets', 'inverse_learning…"
      ]
     },
     "metadata": {},
     "output_type": "display_data"
    }
   ],
   "source": [
    "datasets = pd.unique(agents_loss[\"datasets\"])\n",
    "jerk_weights = pd.unique(agents_loss[\"jerk_weight\"])\n",
    "\n",
    "def show_top_agents(measure=\"repetition_error\", datasets=datasets[0], jerk_weight=jerk_weights[0], use_synth_as_direct=False, ascending=True):\n",
    "    subset = agents_loss[agents_loss[\"datasets\"] == datasets]\n",
    "    subset = subset[subset[\"jerk_weight\"] == jerk_weight]\n",
    "    if use_synth_as_direct:\n",
    "        subset = subset[subset[\"direct_layers\"] == \"synth\"]\n",
    "    else:\n",
    "        subset = subset[subset[\"direct_layers\"] != \"synth\"]\n",
    "    display(subset.sort_values(measure, ascending=ascending).head(30))\n",
    "\n",
    "ipw.interactive(show_top_agents, measure=agents_loss, datasets=datasets, jerk_weight=jerk_weights, use_synth_as_direct=False, ascending=True)"
   ]
  },
  {
   "cell_type": "code",
   "execution_count": 5,
   "id": "e55f3269-7d09-4ba9-864f-e47996122503",
   "metadata": {},
   "outputs": [],
   "source": [
    "groups_metrics = {}\n",
    "\n",
    "for agent_path in agents_path:\n",
    "    agent = ImitativeAgent.reload(agent_path, load_nn=False)\n",
    "    config = agent.config\n",
    "    with open(\"%s/metrics.pickle\" % agent_path, \"rb\") as f:\n",
    "        metrics = pickle.load(f)\n",
    "    \n",
    "    if config['training']['jerk_loss_weight'] != 1:\n",
    "        continue\n",
    "    \n",
    "    group_name = \"\\n\".join((\n",
    "        f\"{','.join(config['dataset']['names'])}\",\n",
    "        f\"synth_art={agent.synthesizer.config['dataset']['art_type']}\",\n",
    "        f\"jerk_c={config['training']['jerk_loss_ceil']}\",\n",
    "        f\"jerk_w={config['training']['jerk_loss_weight']}\",\n",
    "        f\"bi={config['model']['inverse_model']['bidirectional']}\",\n",
    "    ))\n",
    "    \n",
    "    if group_name not in groups_metrics:\n",
    "        groups_metrics[group_name] = {}\n",
    "    groups_metrics[group_name][agent_path] = metrics"
   ]
  },
  {
   "cell_type": "code",
   "execution_count": 6,
   "id": "f6fbe15c-e469-4357-a393-de44c63f0506",
   "metadata": {},
   "outputs": [
    {
     "data": {
      "application/vnd.jupyter.widget-view+json": {
       "model_id": "ee89acde498a48778d962bba88c1501c",
       "version_major": 2,
       "version_minor": 0
      },
      "text/plain": [
       "interactive(children=(Dropdown(description='split_name', index=2, options=('train', 'validation', 'test'), val…"
      ]
     },
     "metadata": {},
     "output_type": "display_data"
    }
   ],
   "source": [
    "metrics_name = [\n",
    "    \"direct_model_estimation_error\",\n",
    "    \"inverse_model_estimation_error\",\n",
    "    \"inverse_model_repetition_error\",\n",
    "    \"inverse_model_jerk\",\n",
    "]\n",
    "\n",
    "def show_metrics(split_name=\"test\"):\n",
    "    plot_groups_metrics(groups_metrics, metrics_name, split_name)\n",
    "display(ipw.interactive(show_metrics, split_name=[\"train\", \"validation\", \"test\"]))"
   ]
  },
  {
   "cell_type": "code",
   "execution_count": null,
   "id": "309612a7-a74e-4d61-85a6-12d8f11f0f4f",
   "metadata": {},
   "outputs": [],
   "source": []
  }
 ],
 "metadata": {
  "kernelspec": {
   "display_name": "Python 3",
   "language": "python",
   "name": "python3"
  },
  "language_info": {
   "codemirror_mode": {
    "name": "ipython",
    "version": 3
   },
   "file_extension": ".py",
   "mimetype": "text/x-python",
   "name": "python",
   "nbconvert_exporter": "python",
   "pygments_lexer": "ipython3",
   "version": "3.7.16"
  }
 },
 "nbformat": 4,
 "nbformat_minor": 5
}
