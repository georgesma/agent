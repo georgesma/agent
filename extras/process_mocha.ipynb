{
 "cells": [
  {
   "cell_type": "code",
   "execution_count": 1,
   "id": "69815f6a-ef8a-4017-affd-4b17268cf393",
   "metadata": {},
   "outputs": [],
   "source": [
    "import sys\n",
    "sys.path.append(\"..\")\n",
    "\n",
    "from lib.dataset_wrapper import Dataset\n",
    "import matplotlib.pyplot as plt\n",
    "import ipywidgets as ipw\n",
    "import numpy as np\n",
    "\n",
    "from scipy import signal\n",
    "\n",
    "datasets_name = [\"fsew0\", \"msak0\", \"pb2007\"]"
   ]
  },
  {
   "cell_type": "code",
   "execution_count": 2,
   "id": "37502c60-3c0e-498b-83f5-8349eb4a934b",
   "metadata": {},
   "outputs": [],
   "source": [
    "EMA_LOWPASS_CUTOFF = 50\n",
    "FILES_LOWPASS_CUTOFF = 10"
   ]
  },
  {
   "cell_type": "code",
   "execution_count": 3,
   "id": "a53dc9fc-802e-422e-8c8a-db8da54bb63e",
   "metadata": {},
   "outputs": [],
   "source": [
    "# function sig_out = low_pass(sig_in, fech, fcc, R)\n",
    "#     if ~exist('R', 'var') R = 0.15; end\n",
    "#     fc =  fcc*2/fech; % end of passband\n",
    "#     fc1 = fc + .15; % beginning of stopband\n",
    "#     %  pente du filtre > de (-.1dB + 50dB)/.005\n",
    "#     %  Ordre du filtre\n",
    "#     [n, wn] = cheb1ord(fc, fc1, .1, 50);\n",
    "#     if rem(n, 2) == 0 disp('low_pass: ATTENTION, on force n impair ...'); n = n+1; end\n",
    "#     % Coefficients du filtre\n",
    "#     [C, D] = cheby1(n, R, wn);\n",
    "#     % Filtrage\n",
    "#     sig_out = filtfilt(C, D, sig_in);\n",
    "# return\n",
    "\n",
    "def create_lowpass_filter(sampling_rate, cutoff_freq, R=.15):\n",
    "    fc = cutoff_freq * 2 / sampling_rate\n",
    "    fc1 = fc + .15\n",
    "    n, wn = signal.cheb1ord(fc, fc1, .1, 50)\n",
    "    C, D = signal.cheby1(n, R, wn)\n",
    "    \n",
    "    def filt(x):\n",
    "        y = x.copy()\n",
    "        nb_dim = x.shape[1]\n",
    "        for i_dim in range(nb_dim):\n",
    "            y[:, i_dim] = signal.filtfilt(C, D, x[:, i_dim])\n",
    "        return y\n",
    "        \n",
    "    return filt\n",
    "\n",
    "ema_lowpass_filter = create_lowpass_filter(500, EMA_LOWPASS_CUTOFF)\n",
    "files_lowpass_filter = create_lowpass_filter(1000, FILES_LOWPASS_CUTOFF)"
   ]
  },
  {
   "cell_type": "code",
   "execution_count": 4,
   "id": "0fa25d56-970d-49a3-b184-357b78597c91",
   "metadata": {},
   "outputs": [
    {
     "data": {
      "application/vnd.jupyter.widget-view+json": {
       "model_id": "ac9417348c064e5da08a6a7b43caf1cb",
       "version_major": 2,
       "version_minor": 0
      },
      "text/plain": [
       "interactive(children=(Dropdown(description='dataset_name', options=('fsew0', 'msak0', 'pb2007'), value='fsew0'…"
      ]
     },
     "metadata": {},
     "output_type": "display_data"
    }
   ],
   "source": [
    "def show_dataset_mean(dataset_name):\n",
    "    dataset = Dataset(dataset_name)\n",
    "    items_ema = dataset.get_items_data(\"ema\")\n",
    "    items_name = list(items_ema.keys())\n",
    "    \n",
    "    items_mean = []\n",
    "    for item_name in items_name:\n",
    "        item_ema = items_ema[item_name]\n",
    "        item_mean = item_ema.mean(axis=0)\n",
    "        items_mean.append(item_mean)\n",
    "    items_mean = np.array(items_mean)\n",
    "    items_mean = items_mean - items_mean.mean(axis=0)\n",
    "    items_mean_filtered = files_lowpass_filter(items_mean)\n",
    "    \n",
    "    nb_channels = items_mean.shape[1]\n",
    "    \n",
    "    plt.figure(figsize=(10, nb_channels), dpi=100)\n",
    "    for i_channel in range(nb_channels):\n",
    "        ax = plt.subplot(nb_channels, 1, 1 + i_channel)\n",
    "        ax.set_ylim(-5, 5)\n",
    "        ax.plot(items_mean[:, i_channel])\n",
    "        ax.plot(items_mean_filtered[:, i_channel])\n",
    "    plt.show()\n",
    "    \n",
    "    # plt.figure(figsize=(10, 5), dpi=100)\n",
    "    # i_channel = 2\n",
    "    # ax = plt.subplot()\n",
    "    # # ax.set_ylim(-2, 2)\n",
    "    # ax.plot(items_mean[:, i_channel])\n",
    "    # ax.plot(items_mean_filtered[:, i_channel])\n",
    "    # plt.show()\n",
    "\n",
    "display(ipw.interactive(show_dataset_mean, dataset_name=datasets_name))"
   ]
  },
  {
   "cell_type": "code",
   "execution_count": 5,
   "id": "fb6093fe-501e-4a49-91ce-de8079029ab9",
   "metadata": {},
   "outputs": [
    {
     "data": {
      "application/vnd.jupyter.widget-view+json": {
       "model_id": "515dbe2480204d4781a86a6d81c3b945",
       "version_major": 2,
       "version_minor": 0
      },
      "text/plain": [
       "interactive(children=(Dropdown(description='dataset_name', options=('fsew0', 'msak0', 'pb2007'), value='fsew0'…"
      ]
     },
     "metadata": {},
     "output_type": "display_data"
    }
   ],
   "source": [
    "def show_dataset_item(dataset_name):\n",
    "    dataset = Dataset(dataset_name)\n",
    "    items_ema = dataset.get_items_data(\"ema\")\n",
    "    items_name = list(items_ema.keys())\n",
    "    \n",
    "    def show_item_ema(item_name):\n",
    "        item_ema = items_ema[item_name]\n",
    "        item_ema_mean = item_ema.mean(axis=0)\n",
    "        nb_frames, nb_channels = item_ema.shape\n",
    "        \n",
    "        xlim = item_ema[:, 0::2].min(), item_ema[:, 0::2].max()\n",
    "        ylim = item_ema[:, 1::2].min(), item_ema[:, 1::2].max()\n",
    "        \n",
    "        item_ema_filtered = ema_lowpass_filter(item_ema)\n",
    "\n",
    "        plt.figure(figsize=(10, nb_channels), dpi=100)\n",
    "        for i_channel in range(nb_channels):\n",
    "            ax = plt.subplot(nb_channels, 1, 1 + i_channel)\n",
    "            ax.set_ylim(-20, 20)\n",
    "            ax.plot(item_ema[:, i_channel] - item_ema_mean[i_channel])\n",
    "            ax.plot(item_ema_filtered[:, i_channel] - item_ema_mean[i_channel])\n",
    "        plt.show()\n",
    "        \n",
    "        def show_ema_frame(i_frame=0):\n",
    "            ema_frame = item_ema[i_frame]\n",
    "            ema_frame_filtered = item_ema_filtered[i_frame]\n",
    "            \n",
    "            plt.figure()\n",
    "            ax = plt.subplot(aspect=\"equal\")\n",
    "            ax.set_xlim(*xlim)\n",
    "            ax.set_ylim(*ylim)\n",
    "            ax.scatter(ema_frame[0::2], ema_frame[1::2])\n",
    "            ax.scatter(ema_frame_filtered[0::2], ema_frame_filtered[1::2])\n",
    "            plt.show()\n",
    "            \n",
    "        display(ipw.interactive(show_ema_frame, i_frame=(0, nb_frames-1)))\n",
    "    \n",
    "    display(ipw.interactive(show_item_ema, item_name=items_name))\n",
    "\n",
    "display(ipw.interactive(show_dataset_item, dataset_name=datasets_name))"
   ]
  },
  {
   "cell_type": "code",
   "execution_count": null,
   "id": "b94aaf01-9e2b-46b3-a00c-d53a2146a156",
   "metadata": {},
   "outputs": [],
   "source": []
  }
 ],
 "metadata": {
  "kernelspec": {
   "display_name": "Python 3",
   "language": "python",
   "name": "python3"
  },
  "language_info": {
   "codemirror_mode": {
    "name": "ipython",
    "version": 3
   },
   "file_extension": ".py",
   "mimetype": "text/x-python",
   "name": "python",
   "nbconvert_exporter": "python",
   "pygments_lexer": "ipython3",
   "version": "2.7.0"
  }
 },
 "nbformat": 4,
 "nbformat_minor": 5
}
