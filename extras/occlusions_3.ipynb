{
 "cells": [
  {
   "cell_type": "code",
   "execution_count": 1,
   "id": "1f253c93-c1a1-4bfc-a054-c721b06a38cf",
   "metadata": {},
   "outputs": [],
   "source": [
    "import sys\n",
    "sys.path.append(\"..\")\n",
    "\n",
    "import matplotlib.pyplot as plt\n",
    "import numpy as np\n",
    "import ipywidgets as ipw\n",
    "\n",
    "from lib.dataset_wrapper import Dataset\n",
    "from lib import abx_utils\n",
    "from lib import notebooks"
   ]
  },
  {
   "cell_type": "code",
   "execution_count": 2,
   "id": "27fcdffd-009c-4244-814c-ea58350e7be6",
   "metadata": {},
   "outputs": [
    {
     "ename": "AssertionError",
     "evalue": "",
     "output_type": "error",
     "traceback": [
      "\u001b[0;31m---------------------------------------------------------------------------\u001b[0m",
      "\u001b[0;31mAssertionError\u001b[0m                            Traceback (most recent call last)",
      "Cell \u001b[0;32mIn[2], line 4\u001b[0m\n\u001b[1;32m      1\u001b[0m DATASET_NAME \u001b[38;5;241m=\u001b[39m \u001b[38;5;124m\"\u001b[39m\u001b[38;5;124mpb2007\u001b[39m\u001b[38;5;124m\"\u001b[39m\n\u001b[1;32m      3\u001b[0m dataset \u001b[38;5;241m=\u001b[39m Dataset(DATASET_NAME)\n\u001b[0;32m----> 4\u001b[0m \u001b[38;5;28;01massert\u001b[39;00m dataset\u001b[38;5;241m.\u001b[39mhas_palate\n\u001b[1;32m      5\u001b[0m items_ema \u001b[38;5;241m=\u001b[39m dataset\u001b[38;5;241m.\u001b[39mget_items_data(\u001b[38;5;124m\"\u001b[39m\u001b[38;5;124mema\u001b[39m\u001b[38;5;124m\"\u001b[39m)\n",
      "\u001b[0;31mAssertionError\u001b[0m: "
     ]
    }
   ],
   "source": [
    "DATASET_NAME = \"pb2007\"\n",
    "\n",
    "dataset = Dataset(DATASET_NAME)\n",
    "assert dataset.has_palate\n",
    "items_ema = dataset.get_items_data(\"ema\")"
   ]
  },
  {
   "cell_type": "code",
   "execution_count": 3,
   "id": "4ee9af77-f359-4b5e-9a32-2a8e9636257d",
   "metadata": {},
   "outputs": [
    {
     "ename": "AttributeError",
     "evalue": "'Dataset' object has no attribute 'palate'",
     "output_type": "error",
     "traceback": [
      "\u001b[0;31m---------------------------------------------------------------------------\u001b[0m",
      "\u001b[0;31mAttributeError\u001b[0m                            Traceback (most recent call last)",
      "Cell \u001b[0;32mIn[3], line 13\u001b[0m\n\u001b[1;32m     11\u001b[0m vowels \u001b[38;5;241m=\u001b[39m dataset\u001b[38;5;241m.\u001b[39mphones_infos[\u001b[38;5;124m\"\u001b[39m\u001b[38;5;124mvowels\u001b[39m\u001b[38;5;124m\"\u001b[39m]\n\u001b[1;32m     12\u001b[0m dataset_lab \u001b[38;5;241m=\u001b[39m {DATASET_NAME: dataset\u001b[38;5;241m.\u001b[39mlab}\n\u001b[0;32m---> 13\u001b[0m palate \u001b[38;5;241m=\u001b[39m \u001b[43mdataset\u001b[49m\u001b[38;5;241;43m.\u001b[39;49m\u001b[43mpalate\u001b[49m\n",
      "\u001b[0;31mAttributeError\u001b[0m: 'Dataset' object has no attribute 'palate'"
     ]
    }
   ],
   "source": [
    "LIPS_CONSONANTS = [\"p\", \"b\", \"m\"]\n",
    "TONGUE_CONSONANTS = [\"t\", \"d\", \"k\", \"g\"]\n",
    "TESTED_CONSONANTS = dataset.phones_infos[\"consonants\"]\n",
    "CONSONANTS_COIL = {\n",
    "    \"t\": slice(2, 4),\n",
    "    \"d\": slice(2, 4),\n",
    "    \"k\": slice(4, 6),\n",
    "    \"g\": slice(4, 6),\n",
    "}\n",
    "\n",
    "vowels = dataset.phones_infos[\"vowels\"]\n",
    "dataset_lab = {DATASET_NAME: dataset.lab}\n",
    "palate = dataset.palate"
   ]
  },
  {
   "cell_type": "code",
   "execution_count": 4,
   "id": "f02b1cb0-17bc-40f2-a1de-0fb93dd5c23e",
   "metadata": {},
   "outputs": [],
   "source": [
    "consonants_indexes = abx_utils.get_datasets_phones_indexes(\n",
    "    dataset_lab, TESTED_CONSONANTS, vowels\n",
    ")"
   ]
  },
  {
   "cell_type": "code",
   "execution_count": 5,
   "id": "372014cc-2b3e-4f20-8959-164329337230",
   "metadata": {},
   "outputs": [
    {
     "data": {
      "application/vnd.jupyter.widget-view+json": {
       "model_id": "8d5f72b2bc084abf8ade69c09bf5e56f",
       "version_major": 2,
       "version_minor": 0
      },
      "text/plain": [
       "interactive(children=(Dropdown(description='consonant', options=('p', 'f', 'b', 'v', 'm', 't', 's', 'd', 'z', …"
      ]
     },
     "metadata": {},
     "output_type": "display_data"
    }
   ],
   "source": [
    "def show_consonant(consonant):\n",
    "    consonant_indexes = consonants_indexes[consonant]\n",
    "    \n",
    "    def show_occurence(i_index):\n",
    "        index = consonant_indexes[i_index]\n",
    "        print(index)\n",
    "        item_ema = items_ema[index[1]]\n",
    "        consonant_ema = item_ema[index[2]]\n",
    "        \n",
    "        consonant_ema_norm = consonant_ema - consonant_ema.mean(axis=0)\n",
    "        lower_lip_ema = consonant_ema_norm[:, 8:10]\n",
    "        upper_lip_ema = consonant_ema_norm[:, 10:12]\n",
    "        tongue_tip_ema = consonant_ema_norm[:, 2:4]\n",
    "        tongue_mid_ema = consonant_ema_norm[:, 4:6]\n",
    "        \n",
    "        nb_frames = len(consonant_ema)\n",
    "        \n",
    "        YLIM = 5\n",
    "        \n",
    "        plt.figure()\n",
    "        \n",
    "        ax = plt.subplot(421)\n",
    "        ax.set_ylim(-YLIM, YLIM)\n",
    "        ax.plot(upper_lip_ema[:, 0])\n",
    "        ax = plt.subplot(423)\n",
    "        ax.set_ylim(-YLIM, YLIM)\n",
    "        ax.plot(upper_lip_ema[:, 1])\n",
    "        ax = plt.subplot(425)\n",
    "        ax.set_ylim(-YLIM, YLIM)\n",
    "        ax.plot(lower_lip_ema[:, 0])\n",
    "        ax = plt.subplot(427)\n",
    "        ax.set_ylim(-YLIM, YLIM)\n",
    "        ax.plot(lower_lip_ema[:, 1])\n",
    "        \n",
    "        upper_lip_y_speed = np.diff(upper_lip_ema[:, 1])\n",
    "        lower_lip_y_speed = np.diff(lower_lip_ema[:, 1])\n",
    "        lips_distance = np.sqrt(np.sum((lower_lip_ema - upper_lip_ema) ** 2, axis=1))\n",
    "        \n",
    "        test = np.zeros(nb_frames, dtype=\"bool\")\n",
    "        test[1:-1] = (lips_distance[1:-1] < lips_distance[:-2]) & (lips_distance[1:-1] < lips_distance[2:])\n",
    "        print(np.arange(nb_frames)[test])\n",
    "        \n",
    "        ax = plt.subplot(422)\n",
    "        ax.plot(upper_lip_y_speed)\n",
    "        ax = plt.subplot(424)\n",
    "        ax.plot(test)\n",
    "        ax = plt.subplot(426)\n",
    "        ax.plot(lips_distance)\n",
    "        ax = plt.subplot(428)\n",
    "        ax.plot(np.diff(lips_distance))\n",
    "        \n",
    "        plt.show()\n",
    "        \n",
    "        notebooks.show_ema(consonant_ema)\n",
    "    \n",
    "    ipw.interact(show_occurence, i_index=range(len(consonant_indexes)))\n",
    "\n",
    "ipw.interactive(show_consonant, consonant=consonants_indexes.keys())"
   ]
  },
  {
   "cell_type": "code",
   "execution_count": null,
   "id": "df0645ae-de83-419a-8fa9-6ff0cf26db95",
   "metadata": {},
   "outputs": [],
   "source": []
  }
 ],
 "metadata": {
  "kernelspec": {
   "display_name": "Python 3",
   "language": "python",
   "name": "python3"
  },
  "language_info": {
   "codemirror_mode": {
    "name": "ipython",
    "version": 3
   },
   "file_extension": ".py",
   "mimetype": "text/x-python",
   "name": "python",
   "nbconvert_exporter": "python",
   "pygments_lexer": "ipython3",
   "version": "2.7.0"
  }
 },
 "nbformat": 4,
 "nbformat_minor": 5
}
