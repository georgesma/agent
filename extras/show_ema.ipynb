{
 "cells": [
  {
   "cell_type": "code",
   "execution_count": 1,
   "id": "69815f6a-ef8a-4017-affd-4b17268cf393",
   "metadata": {},
   "outputs": [],
   "source": [
    "import sys\n",
    "sys.path.append(\"..\")\n",
    "\n",
    "from lib.dataset_wrapper import Dataset\n",
    "import matplotlib.pyplot as plt\n",
    "import ipywidgets as ipw\n",
    "\n",
    "from lib import notebooks"
   ]
  },
  {
   "cell_type": "code",
   "execution_count": 2,
   "id": "719bc556-cf01-4ca6-826d-5f9e582f8a72",
   "metadata": {},
   "outputs": [],
   "source": [
    "def plot_art_params(art_params):\n",
    "    params_name = [\"JH\", \"TB\", \"TD\", \"TT\", \"LP\", \"LH\", \"VL\"]\n",
    "    nb_frames, nb_params = art_params.shape\n",
    "    \n",
    "    plt.figure(figsize=(nb_frames / 40, nb_params), dpi=100)\n",
    "    \n",
    "    for i_param in range(nb_params):\n",
    "        ax = plt.subplot(nb_params, 1, i_param + 1)\n",
    "        ax.set_ylim(-30, 30)\n",
    "        ax.set_ylabel(params_name[i_param])\n",
    "        ax.plot(art_params[:, i_param])\n",
    "        \n",
    "        if i_param < nb_params - 1:\n",
    "            ax.set_xticklabels([])\n",
    "    plt.show()"
   ]
  },
  {
   "cell_type": "code",
   "execution_count": 3,
   "id": "0fa25d56-970d-49a3-b184-357b78597c91",
   "metadata": {},
   "outputs": [
    {
     "data": {
      "application/vnd.jupyter.widget-view+json": {
       "model_id": "80608d8336b841f1af1b599d945cf095",
       "version_major": 2,
       "version_minor": 0
      },
      "text/plain": [
       "interactive(children=(Dropdown(description='dataset_name', options=('pb2007', 'msak0', 'fsew0'), value='pb2007…"
      ]
     },
     "metadata": {},
     "output_type": "display_data"
    }
   ],
   "source": [
    "datasets_name = [\"pb2007\", \"msak0\", \"fsew0\"]\n",
    "\n",
    "def show_dataset(dataset_name, cut_silences):\n",
    "    dataset = Dataset(dataset_name)\n",
    "    items_ema = dataset.get_items_data(\"ema\", cut_silences=cut_silences)\n",
    "    items_art_params = dataset.get_items_data(\"art_params\", cut_silences=cut_silences)\n",
    "    items_name = dataset.get_items_list()\n",
    "    \n",
    "    def show_item_ema(item_name):\n",
    "        item_ema = items_ema[item_name]\n",
    "        notebooks.show_ema(item_ema)\n",
    "        \n",
    "        item_art_params = items_art_params[item_name]\n",
    "        plot_art_params(item_art_params)\n",
    "    \n",
    "    display(ipw.interactive(show_item_ema, item_name=items_name))\n",
    "\n",
    "display(ipw.interactive(show_dataset, dataset_name=datasets_name, cut_silences=True))"
   ]
  },
  {
   "cell_type": "code",
   "execution_count": null,
   "id": "2d91cdc0-8bc8-47c0-8503-93032ba890c9",
   "metadata": {},
   "outputs": [],
   "source": []
  }
 ],
 "metadata": {
  "kernelspec": {
   "display_name": "Python 3",
   "language": "python",
   "name": "python3"
  },
  "language_info": {
   "codemirror_mode": {
    "name": "ipython",
    "version": 3
   },
   "file_extension": ".py",
   "mimetype": "text/x-python",
   "name": "python",
   "nbconvert_exporter": "python",
   "pygments_lexer": "ipython3",
   "version": "2.7.0"
  }
 },
 "nbformat": 4,
 "nbformat_minor": 5
}
