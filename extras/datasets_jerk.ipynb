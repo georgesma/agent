{
 "cells": [
  {
   "cell_type": "code",
   "execution_count": 1,
   "id": "3c0a1b49-44f7-4060-acf6-ed4972905e39",
   "metadata": {},
   "outputs": [
    {
     "ename": "ModuleNotFoundError",
     "evalue": "No module named 'lib.nn.jerk_loss'",
     "output_type": "error",
     "traceback": [
      "\u001b[0;31m---------------------------------------------------------------------------\u001b[0m",
      "\u001b[0;31mModuleNotFoundError\u001b[0m                       Traceback (most recent call last)",
      "Cell \u001b[0;32mIn[1], line 9\u001b[0m\n\u001b[1;32m      6\u001b[0m \u001b[38;5;28;01mimport\u001b[39;00m \u001b[38;5;21;01mipywidgets\u001b[39;00m \u001b[38;5;28;01mas\u001b[39;00m \u001b[38;5;21;01mipw\u001b[39;00m\n\u001b[1;32m      8\u001b[0m \u001b[38;5;28;01mfrom\u001b[39;00m \u001b[38;5;21;01mlib\u001b[39;00m\u001b[38;5;21;01m.\u001b[39;00m\u001b[38;5;21;01mdataset_wrapper\u001b[39;00m \u001b[38;5;28;01mimport\u001b[39;00m Dataset\n\u001b[0;32m----> 9\u001b[0m \u001b[38;5;28;01mfrom\u001b[39;00m \u001b[38;5;21;01mlib\u001b[39;00m\u001b[38;5;21;01m.\u001b[39;00m\u001b[38;5;21;01mnn\u001b[39;00m\u001b[38;5;21;01m.\u001b[39;00m\u001b[38;5;21;01mjerk_loss\u001b[39;00m \u001b[38;5;28;01mimport\u001b[39;00m compute_jerk_loss\n\u001b[1;32m     10\u001b[0m \u001b[38;5;28;01mfrom\u001b[39;00m \u001b[38;5;21;01mlib\u001b[39;00m\u001b[38;5;21;01m.\u001b[39;00m\u001b[38;5;21;01mnotebooks\u001b[39;00m \u001b[38;5;28;01mimport\u001b[39;00m show_ema\n",
      "\u001b[0;31mModuleNotFoundError\u001b[0m: No module named 'lib.nn.jerk_loss'"
     ]
    }
   ],
   "source": [
    "import sys\n",
    "sys.path.append(\"..\")\n",
    "\n",
    "import matplotlib.pyplot as plt\n",
    "import numpy as np\n",
    "import ipywidgets as ipw\n",
    "\n",
    "from lib.dataset_wrapper import Dataset\n",
    "from lib.nn.jerk_loss import compute_jerk_loss\n",
    "from lib.notebooks import show_ema"
   ]
  },
  {
   "cell_type": "code",
   "execution_count": 2,
   "id": "de79f2af-3658-4539-ad1c-a5ae1b2d3b87",
   "metadata": {},
   "outputs": [],
   "source": [
    "def compute_jerk(art):\n",
    "    speed = np.diff(art, axis=0)\n",
    "    acc = np.diff(speed, axis=0)\n",
    "    jerk = np.diff(acc, axis=0)\n",
    "    return jerk ** 2"
   ]
  },
  {
   "cell_type": "code",
   "execution_count": 3,
   "id": "fe0cdebe-6e9f-4c22-b26b-6684a07632f5",
   "metadata": {},
   "outputs": [],
   "source": [
    "DATASETS_NAME = [\"pb2007\", \"fsew0\", \"msak0\"]\n",
    "ART_TYPE = \"ema\"\n",
    "ART_PARAMS = [\"JH\", \"TB\", \"TD\", \"TT\", \"LP\", \"LH\", \"VL\"]"
   ]
  },
  {
   "cell_type": "code",
   "execution_count": 8,
   "id": "618b2abf-62e0-46d7-b8e7-72b2dc8925ce",
   "metadata": {},
   "outputs": [
    {
     "data": {
      "image/png": "[encoded data removed]",
      "text/plain": [
       "<Figure size 432x288 with 1 Axes>"
      ]
     },
     "metadata": {
      "needs_background": "light"
     },
     "output_type": "display_data"
    },
    {
     "data": {
      "image/png": "[encoded data removed]",
      "text/plain": [
       "<Figure size 432x288 with 1 Axes>"
      ]
     },
     "metadata": {
      "needs_background": "light"
     },
     "output_type": "display_data"
    },
    {
     "data": {
      "image/png": "[encoded data removed]",
      "text/plain": [
       "<Figure size 432x288 with 1 Axes>"
      ]
     },
     "metadata": {
      "needs_background": "light"
     },
     "output_type": "display_data"
    }
   ],
   "source": [
    "for dataset_name in DATASETS_NAME:\n",
    "    dataset = Dataset(dataset_name)\n",
    "    items_art = dataset.get_items_data(ART_TYPE, cut_silences=True)\n",
    "    \n",
    "    items_jerk = []\n",
    "    \n",
    "    for item_art in items_art.values():\n",
    "        item_jerk = compute_jerk(item_art)\n",
    "        items_jerk.append(item_jerk)\n",
    "    all_jerk = np.concatenate(items_jerk, axis=0)\n",
    "    jerk_per_item = [item_jerk.mean() for item_jerk in items_jerk]\n",
    "    \n",
    "    plt.figure()\n",
    "    plt.hist(jerk_per_item)\n",
    "    plt.show()\n",
    "    continue\n",
    "    \n",
    "    mean_jerk = all_jerk.mean()\n",
    "    params_jerk = all_jerk.mean(axis=0)\n",
    "    nb_params = len(params_jerk)\n",
    "    xticks = np.arange(1 + nb_params)\n",
    "    xticklabels = [\"Global\"] + ART_PARAMS[:nb_params]\n",
    "    \n",
    "    plt.figure()\n",
    "    ax = plt.subplot()\n",
    "    ax.set_title(dataset_name)\n",
    "    # ax.set_xticks(xticks, xticklabels)\n",
    "    ax.bar(0, mean_jerk)\n",
    "    ax.bar(xticks[1:], params_jerk)\n",
    "    plt.show()"
   ]
  },
  {
   "cell_type": "code",
   "execution_count": 6,
   "id": "7be81b37-efca-4a3e-861f-93ded3b0de61",
   "metadata": {},
   "outputs": [
    {
     "data": {
      "application/vnd.jupyter.widget-view+json": {
       "model_id": "a7b585947efc4229b662a7bace9f720b",
       "version_major": 2,
       "version_minor": 0
      },
      "text/plain": [
       "interactive(children=(Dropdown(description='dataset_name', options=('pb2007', 'fsew0', 'msak0'), value='pb2007…"
      ]
     },
     "metadata": {},
     "output_type": "display_data"
    }
   ],
   "source": [
    "def show_dataset(dataset_name):\n",
    "    dataset = Dataset(dataset_name)\n",
    "    items_ema = dataset.get_items_data(ART_TYPE, cut_silences=True)\n",
    "    items_name = dataset.get_items_list()\n",
    "\n",
    "    def resynth_item(item_name):\n",
    "        item_ema = items_ema[item_name]\n",
    "        \n",
    "        if ART_TYPE == \"art_params\":\n",
    "            estimated_art = dataset.art_to_ema(estimated_art)\n",
    "        item_ema = items_ema[item_name]\n",
    "        show_ema(item_ema, is_artis=dataset_name == \"pb2007\")\n",
    "\n",
    "    display(ipw.interactive(resynth_item, item_name=items_name))\n",
    "\n",
    "display(ipw.interactive(show_dataset, dataset_name=DATASETS_NAME))"
   ]
  },
  {
   "cell_type": "code",
   "execution_count": null,
   "id": "7e15a55a-66b6-4bbe-a8cc-1bf737dfe260",
   "metadata": {},
   "outputs": [],
   "source": []
  }
 ],
 "metadata": {
  "kernelspec": {
   "display_name": "Python 3",
   "language": "python",
   "name": "python3"
  },
  "language_info": {
   "codemirror_mode": {
    "name": "ipython",
    "version": 3
   },
   "file_extension": ".py",
   "mimetype": "text/x-python",
   "name": "python",
   "nbconvert_exporter": "python",
   "pygments_lexer": "ipython3",
   "version": "2.7.0"
  }
 },
 "nbformat": 4,
 "nbformat_minor": 5
}
